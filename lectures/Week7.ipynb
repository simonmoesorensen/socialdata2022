{
 "cells": [
  {
   "cell_type": "markdown",
   "metadata": {},
   "source": [
    "## Intro\n",
    "\n",
    "Last week you had an intro to classification tasks and decision trees. You worked on a model to predict criminal recidivism and made a few visualizations along the way. \n",
    "\n",
    "Some of you asked: why Machine Learning? And, even though modeling is part of analysing data and predictions are a huge part of how people use data nowadays, there is something more important to it: visualization are not only powerful to study data, they are also great to understand models. We needed that little extra Machine Learning to explore another way of using visualizations. \n",
    "\n",
    "Today, we will do exactly this! The purpose of today's class is threefold: \n",
    "\n",
    "1. To explore the data I gave you last week with **interactive visualizations**;\n",
    "2. To **visualize the results** on criminal recidivism of your machine learning model;\n",
    "3. To **debias** the results you obtained via two methods (and a bit of visualization along the way)."
   ]
  },
  {
   "cell_type": "markdown",
   "metadata": {},
   "source": [
    "## Part 1: Interactive visualizations with Bokeh\n",
    "\n",
    "Until today we have worked with static data visualization. However, exploratory data analysis means to be able to explore the multi-faceted nature of data and *interactive dataviz* is a handy tool to do it! It allows to play with the data: Toggle the view. Zoom. Drag. Show more details. All those things. Those are a key part of modern data visualization. \n",
    "\n",
    "To really master interactive visualizations, you should check out methods in JavaScript, especially [D3](https://d3js.org). Given that we only have 5ECTS for this class, we unfortunately don't have time for that. But luckily Python has some pretty good options for interactive visualizations. [Here](https://mode.com/blog/python-interactive-plot-libraries/), you can find some of them.\n",
    "\n",
    "Today, we'll explore [`Bokeh`](https://docs.bokeh.org/en/latest/), which provides lots of nice interactive funtionalities to Python. To work with Bokeh, we first need to do some preparation:\n",
    "1. If you haven't installed it yet please do so. You can simply follow [these steps](https://docs.bokeh.org/en/latest/docs/first_steps/installation.html)\n",
    "2. To include Bokeh in your notebooks you can follow the [Bokeh: Using with Jupyter](https://docs.bokeh.org/en/latest/docs/user_guide/jupyter.html#userguide-jupyter-notebook) guide. Come back to this one when you need it\n",
    "3. We aim to give you a gentle start with Bokeh and I am going to include more example codes than usual in the follwing. However, to get a sense of how things work, I suggest you surf the web, find a Bokeh tutorial and scan through it. Also click around a bit in [the official docs](https://docs.bokeh.org/en/latest/docs/user_guide.html#userguide).\n",
    "\n",
    "In the exercises below, we will use the data from [GitHub](https://raw.githubusercontent.com/suneman/socialdata2022/main/files/recidivism_dataset_sub.csv):\n",
    "1. Load the data and select the columns as in Week 6, Exercise 3.1\n",
    "2. Preprocess the data as in Week 6, Exercise 3.2.\n",
    "\n",
    "Ok, let's get started!"
   ]
  },
  {
   "cell_type": "markdown",
   "metadata": {},
   "source": [
    "> *Exercise 1.1:* Interactive data exploration. The aim of this exercise is to compare bar plots for different races. Each bar plot will have age on the x-axis and number of samples in the data on the y-axis. Follow the steps below for success:\n",
    ">\n",
    "> * Compute the number of samples by age for each race. You should end up with a dataframe that looks like [this](https://github.com/suneman/socialdata2022/blob/main/files/bokeh-df1.png).\n",
    "> * Convert your `DataFrame` to Bokeh `ColumnDataSource`.\n",
    "> * Create an empty figure, you can find the a guide to define a figure in Bokeh online. Here, a little help:\n",
    " ```python\n",
    "p = figure(ADD_PARAMS_HERE) # p is a standard way to call figures in Bokeh\n",
    "# do not forget to add attributes to the figure, e.g. title, axis names, etc.\n",
    " ```\n",
    " * Add bars by using `p.vbar()` as follows:\n",
    " ```python\n",
    "    bar ={} # to store vbars \n",
    "    # here we will do a for loop to create a bar for each race\n",
    "    for indx,i in enumerate(races):\n",
    "         bar[i] = p.vbar(x=ADD_AGE_COLUMN_NAME,  top=i, source= ADD_YOUR_DATA, legend_label=i, ..., muted = ...) \n",
    " ```\n",
    " * Make your legend interactive and display the figure:\n",
    " ```python\n",
    "    p.legend.click_policy=\"mute\" # assigns the click policy (you can try to use ''hide')\n",
    "    show(p) # displays your plot\n",
    " ```\n",
    " * You will notice that the legend appears in the middle of the figure (and it ocludes some of the data). In order to fix this look into [this guide](https://stackoverflow.com/questions/26254619/position-of-the-legend-in-a-bokeh-plot) as a start. Below are some code snippets that you can use to deal with this problem (but read the guide first):\n",
    " ```python\n",
    "    items = [] # for the custom legend // you need to figure out where to add it\n",
    "    items.append((i, [bar[i]])) # figure out where to add it\n",
    "    legend = Legend(items=..., location=.....) # figure out where to add it\n",
    "    p.add_layout(...., ...) # figure where to add it\n",
    "    # if you read the guide, it will make sense :)\n",
    " ```\n",
    " * And now you have it! You can play with colors and other parameters to make it as you like, but first describe your plot. What do you observe?"
   ]
  },
  {
   "cell_type": "code",
   "execution_count": 22,
   "metadata": {
    "pycharm": {
     "name": "#%%\n"
    }
   },
   "outputs": [],
   "source": [
    "import pandas as pd\n",
    "from bokeh.io import output_notebook\n",
    "from bokeh.plotting import figure, show"
   ]
  },
  {
   "cell_type": "code",
   "execution_count": 23,
   "metadata": {
    "pycharm": {
     "name": "#%%\n"
    }
   },
   "outputs": [],
   "source": [
    "df = pd.read_csv('https://raw.githubusercontent.com/suneman/socialdata2022/main/files/recidivism_dataset_sub.csv')\n",
    "\n",
    "columns = ['age', 'sex', 'race', 'juv_fel_count', 'juv_misd_count', 'priors_count', 'is_recid',\n",
    "           'days_b_screening_arrest', 'c_charge_degree']\n",
    "target = ['two_year_recid']\n",
    "\n",
    "df = df[columns + target]\n",
    "\n",
    "mask = (\n",
    "        (df.is_recid != -1) &\n",
    "        (df.c_charge_degree != 'O') &\n",
    "        ((-30 <= df.days_b_screening_arrest) & (df.days_b_screening_arrest <= 30))\n",
    ")\n",
    "df = df[mask]\n",
    "df = df.drop(['is_recid', 'c_charge_degree', 'days_b_screening_arrest'], axis=1)"
   ]
  },
  {
   "cell_type": "code",
   "execution_count": 24,
   "metadata": {
    "pycharm": {
     "name": "#%%\n"
    }
   },
   "outputs": [
    {
     "data": {
      "text/plain": "race  African-American  Asian  Caucasian  Hispanic  Native American  Other\nage                                                                       \n18                 1.0    0.0        0.0       0.0              0.0    0.0\n19                16.0    0.0        7.0       2.0              0.0    1.0\n20                95.0    1.0       39.0      10.0              1.0   16.0\n21               172.0    1.0       70.0      27.0              1.0   15.0\n22               166.0    1.0       75.0      22.0              0.0    8.0",
      "text/html": "<div>\n<style scoped>\n    .dataframe tbody tr th:only-of-type {\n        vertical-align: middle;\n    }\n\n    .dataframe tbody tr th {\n        vertical-align: top;\n    }\n\n    .dataframe thead th {\n        text-align: right;\n    }\n</style>\n<table border=\"1\" class=\"dataframe\">\n  <thead>\n    <tr style=\"text-align: right;\">\n      <th>race</th>\n      <th>African-American</th>\n      <th>Asian</th>\n      <th>Caucasian</th>\n      <th>Hispanic</th>\n      <th>Native American</th>\n      <th>Other</th>\n    </tr>\n    <tr>\n      <th>age</th>\n      <th></th>\n      <th></th>\n      <th></th>\n      <th></th>\n      <th></th>\n      <th></th>\n    </tr>\n  </thead>\n  <tbody>\n    <tr>\n      <th>18</th>\n      <td>1.0</td>\n      <td>0.0</td>\n      <td>0.0</td>\n      <td>0.0</td>\n      <td>0.0</td>\n      <td>0.0</td>\n    </tr>\n    <tr>\n      <th>19</th>\n      <td>16.0</td>\n      <td>0.0</td>\n      <td>7.0</td>\n      <td>2.0</td>\n      <td>0.0</td>\n      <td>1.0</td>\n    </tr>\n    <tr>\n      <th>20</th>\n      <td>95.0</td>\n      <td>1.0</td>\n      <td>39.0</td>\n      <td>10.0</td>\n      <td>1.0</td>\n      <td>16.0</td>\n    </tr>\n    <tr>\n      <th>21</th>\n      <td>172.0</td>\n      <td>1.0</td>\n      <td>70.0</td>\n      <td>27.0</td>\n      <td>1.0</td>\n      <td>15.0</td>\n    </tr>\n    <tr>\n      <th>22</th>\n      <td>166.0</td>\n      <td>1.0</td>\n      <td>75.0</td>\n      <td>22.0</td>\n      <td>0.0</td>\n      <td>8.0</td>\n    </tr>\n  </tbody>\n</table>\n</div>"
     },
     "execution_count": 24,
     "metadata": {},
     "output_type": "execute_result"
    }
   ],
   "source": [
    "df_counts = df.value_counts(['age', 'race']).reset_index().pivot(index=['age'], columns=['race'], values=0).fillna(0)\n",
    "df_counts.head()"
   ]
  },
  {
   "cell_type": "code",
   "execution_count": 25,
   "metadata": {
    "pycharm": {
     "name": "#%%\n"
    }
   },
   "outputs": [],
   "source": [
    "from bokeh.models import ColumnDataSource\n",
    "\n",
    "source = ColumnDataSource(data=df_counts)"
   ]
  },
  {
   "cell_type": "code",
   "execution_count": 26,
   "metadata": {
    "pycharm": {
     "name": "#%%\n"
    }
   },
   "outputs": [],
   "source": [
    "p = figure()"
   ]
  },
  {
   "cell_type": "markdown",
   "metadata": {},
   "source": [
    "During Week 6 I asked you to visualize a bar plot with the fraction of recommitted crimes over total number of records per race, e.g. the number of recommitted crimes of African-Americans over the total number of crimes of African-Americans, etc. You should have obtained something like [this](https://github.com/suneman/socialdata2022/blob/main/files/frac_recommit_race.png). If we look at this plot we observe that all races but Asian have fraction of recommitted crimes above $30\\%$, and African-Americans have the highest fraction, i.e. above $50\\%$. However, is this the whole story? Let's have a look at this data from a different angle!\n",
    "\n",
    "> *Exercise 1.2:* fraction of crimes - a different perspective. In this exercise, we are going to create an interactive scatter plot, where each point is a race, with position given by the number of total samples in the race category on the x-axis and the number of recommitted crimes in the race category on the y-axis. Moreover, each point will have a size given by the fraction computed in Week 6. Follow these steps for success:\n",
    "> * Create a `DataFrame` with `race` as index and the following columns: \n",
    ">     * `n_samples`, i.e. number of samples for each race,\n",
    ">     * `n_rec_crimes`, i.e. number of recommitted crimes for each race,\n",
    ">     * `frac_crimes`, i.e. `n_rec_crimes/n_samples`.\n",
    "> * Convert the dataframe into a `ColumnDataSource` and create an empty figure.\n",
    "> * Add points in your figure by using \n",
    "> ```python\n",
    ">   p.circle(ADD_X_COLUMN,ADD_Y_COLUMN, size=..., source=..., ...)\n",
    "> ```\n",
    "> * Add a `HoverTool()` so that when hovering over a circle both race and size are displayed.\n",
    "> * You can change colors of the data points by passing an additional color column to `p.circle()`.\n",
    "> * And now a couple of questions: Explain what you observe. What does this plot shows that the fraction of crimes alone didn't? Do you think the data we are using is representative? What could be some possible issues with this data? \n",
    "\n",
    "Once answered the questions above, **take a minute and discuss** your thoughts with your neighbour or one of your group members."
   ]
  },
  {
   "cell_type": "code",
   "execution_count": 27,
   "metadata": {
    "pycharm": {
     "name": "#%%\n"
    }
   },
   "outputs": [
    {
     "data": {
      "text/plain": "                  n_samples  n_rec_crimes  frac_crimes\nrace                                                  \nAfrican-American       3175          1661     0.523150\nAsian                    31             8     0.258065\nCaucasian              2103           822     0.390870\nHispanic                509           189     0.371316\nNative American          11             5     0.454545",
      "text/html": "<div>\n<style scoped>\n    .dataframe tbody tr th:only-of-type {\n        vertical-align: middle;\n    }\n\n    .dataframe tbody tr th {\n        vertical-align: top;\n    }\n\n    .dataframe thead th {\n        text-align: right;\n    }\n</style>\n<table border=\"1\" class=\"dataframe\">\n  <thead>\n    <tr style=\"text-align: right;\">\n      <th></th>\n      <th>n_samples</th>\n      <th>n_rec_crimes</th>\n      <th>frac_crimes</th>\n    </tr>\n    <tr>\n      <th>race</th>\n      <th></th>\n      <th></th>\n      <th></th>\n    </tr>\n  </thead>\n  <tbody>\n    <tr>\n      <th>African-American</th>\n      <td>3175</td>\n      <td>1661</td>\n      <td>0.523150</td>\n    </tr>\n    <tr>\n      <th>Asian</th>\n      <td>31</td>\n      <td>8</td>\n      <td>0.258065</td>\n    </tr>\n    <tr>\n      <th>Caucasian</th>\n      <td>2103</td>\n      <td>822</td>\n      <td>0.390870</td>\n    </tr>\n    <tr>\n      <th>Hispanic</th>\n      <td>509</td>\n      <td>189</td>\n      <td>0.371316</td>\n    </tr>\n    <tr>\n      <th>Native American</th>\n      <td>11</td>\n      <td>5</td>\n      <td>0.454545</td>\n    </tr>\n  </tbody>\n</table>\n</div>"
     },
     "execution_count": 27,
     "metadata": {},
     "output_type": "execute_result"
    }
   ],
   "source": [
    "df_race = pd.merge(\n",
    "    df.groupby('race').count().rename({'age': 'n_samples'}, axis=1).n_samples,\n",
    "    df.query(\"two_year_recid == 1\").groupby(['race']).count().rename({'age': 'n_rec_crimes'}, axis=1).n_rec_crimes,\n",
    "    on='race'\n",
    ")\n",
    "\n",
    "df_race['frac_crimes'] = df_race.n_rec_crimes / df_race.n_samples\n",
    "\n",
    "df_race.head()"
   ]
  },
  {
   "cell_type": "code",
   "execution_count": 28,
   "metadata": {
    "pycharm": {
     "name": "#%%\n"
    }
   },
   "outputs": [],
   "source": [
    "df_race['size'] = df_race['frac_crimes'] * 75\n",
    "source = ColumnDataSource(df_race)"
   ]
  },
  {
   "cell_type": "code",
   "execution_count": 29,
   "metadata": {
    "pycharm": {
     "name": "#%%\n"
    }
   },
   "outputs": [
    {
     "data": {
      "text/html": "\n    <div class=\"bk-root\">\n        <a href=\"https://bokeh.org\" target=\"_blank\" class=\"bk-logo bk-logo-small bk-logo-notebook\"></a>\n        <span id=\"1213\">Loading BokehJS ...</span>\n    </div>"
     },
     "metadata": {},
     "output_type": "display_data"
    },
    {
     "data": {
      "application/javascript": "\n(function(root) {\n  function now() {\n    return new Date();\n  }\n\n  const force = true;\n\n  if (typeof root._bokeh_onload_callbacks === \"undefined\" || force === true) {\n    root._bokeh_onload_callbacks = [];\n    root._bokeh_is_loading = undefined;\n  }\n\n  const JS_MIME_TYPE = 'application/javascript';\n  const HTML_MIME_TYPE = 'text/html';\n  const EXEC_MIME_TYPE = 'application/vnd.bokehjs_exec.v0+json';\n  const CLASS_NAME = 'output_bokeh rendered_html';\n\n  /**\n   * Render data to the DOM node\n   */\n  function render(props, node) {\n    const script = document.createElement(\"script\");\n    node.appendChild(script);\n  }\n\n  /**\n   * Handle when an output is cleared or removed\n   */\n  function handleClearOutput(event, handle) {\n    const cell = handle.cell;\n\n    const id = cell.output_area._bokeh_element_id;\n    const server_id = cell.output_area._bokeh_server_id;\n    // Clean up Bokeh references\n    if (id != null && id in Bokeh.index) {\n      Bokeh.index[id].model.document.clear();\n      delete Bokeh.index[id];\n    }\n\n    if (server_id !== undefined) {\n      // Clean up Bokeh references\n      const cmd_clean = \"from bokeh.io.state import curstate; print(curstate().uuid_to_server['\" + server_id + \"'].get_sessions()[0].document.roots[0]._id)\";\n      cell.notebook.kernel.execute(cmd_clean, {\n        iopub: {\n          output: function(msg) {\n            const id = msg.content.text.trim();\n            if (id in Bokeh.index) {\n              Bokeh.index[id].model.document.clear();\n              delete Bokeh.index[id];\n            }\n          }\n        }\n      });\n      // Destroy server and session\n      const cmd_destroy = \"import bokeh.io.notebook as ion; ion.destroy_server('\" + server_id + \"')\";\n      cell.notebook.kernel.execute(cmd_destroy);\n    }\n  }\n\n  /**\n   * Handle when a new output is added\n   */\n  function handleAddOutput(event, handle) {\n    const output_area = handle.output_area;\n    const output = handle.output;\n\n    // limit handleAddOutput to display_data with EXEC_MIME_TYPE content only\n    if ((output.output_type != \"display_data\") || (!Object.prototype.hasOwnProperty.call(output.data, EXEC_MIME_TYPE))) {\n      return\n    }\n\n    const toinsert = output_area.element.find(\".\" + CLASS_NAME.split(' ')[0]);\n\n    if (output.metadata[EXEC_MIME_TYPE][\"id\"] !== undefined) {\n      toinsert[toinsert.length - 1].firstChild.textContent = output.data[JS_MIME_TYPE];\n      // store reference to embed id on output_area\n      output_area._bokeh_element_id = output.metadata[EXEC_MIME_TYPE][\"id\"];\n    }\n    if (output.metadata[EXEC_MIME_TYPE][\"server_id\"] !== undefined) {\n      const bk_div = document.createElement(\"div\");\n      bk_div.innerHTML = output.data[HTML_MIME_TYPE];\n      const script_attrs = bk_div.children[0].attributes;\n      for (let i = 0; i < script_attrs.length; i++) {\n        toinsert[toinsert.length - 1].firstChild.setAttribute(script_attrs[i].name, script_attrs[i].value);\n        toinsert[toinsert.length - 1].firstChild.textContent = bk_div.children[0].textContent\n      }\n      // store reference to server id on output_area\n      output_area._bokeh_server_id = output.metadata[EXEC_MIME_TYPE][\"server_id\"];\n    }\n  }\n\n  function register_renderer(events, OutputArea) {\n\n    function append_mime(data, metadata, element) {\n      // create a DOM node to render to\n      const toinsert = this.create_output_subarea(\n        metadata,\n        CLASS_NAME,\n        EXEC_MIME_TYPE\n      );\n      this.keyboard_manager.register_events(toinsert);\n      // Render to node\n      const props = {data: data, metadata: metadata[EXEC_MIME_TYPE]};\n      render(props, toinsert[toinsert.length - 1]);\n      element.append(toinsert);\n      return toinsert\n    }\n\n    /* Handle when an output is cleared or removed */\n    events.on('clear_output.CodeCell', handleClearOutput);\n    events.on('delete.Cell', handleClearOutput);\n\n    /* Handle when a new output is added */\n    events.on('output_added.OutputArea', handleAddOutput);\n\n    /**\n     * Register the mime type and append_mime function with output_area\n     */\n    OutputArea.prototype.register_mime_type(EXEC_MIME_TYPE, append_mime, {\n      /* Is output safe? */\n      safe: true,\n      /* Index of renderer in `output_area.display_order` */\n      index: 0\n    });\n  }\n\n  // register the mime type if in Jupyter Notebook environment and previously unregistered\n  if (root.Jupyter !== undefined) {\n    const events = require('base/js/events');\n    const OutputArea = require('notebook/js/outputarea').OutputArea;\n\n    if (OutputArea.prototype.mime_types().indexOf(EXEC_MIME_TYPE) == -1) {\n      register_renderer(events, OutputArea);\n    }\n  }\n\n  \n  if (typeof (root._bokeh_timeout) === \"undefined\" || force === true) {\n    root._bokeh_timeout = Date.now() + 5000;\n    root._bokeh_failed_load = false;\n  }\n\n  const NB_LOAD_WARNING = {'data': {'text/html':\n     \"<div style='background-color: #fdd'>\\n\"+\n     \"<p>\\n\"+\n     \"BokehJS does not appear to have successfully loaded. If loading BokehJS from CDN, this \\n\"+\n     \"may be due to a slow or bad network connection. Possible fixes:\\n\"+\n     \"</p>\\n\"+\n     \"<ul>\\n\"+\n     \"<li>re-rerun `output_notebook()` to attempt to load from CDN again, or</li>\\n\"+\n     \"<li>use INLINE resources instead, as so:</li>\\n\"+\n     \"</ul>\\n\"+\n     \"<code>\\n\"+\n     \"from bokeh.resources import INLINE\\n\"+\n     \"output_notebook(resources=INLINE)\\n\"+\n     \"</code>\\n\"+\n     \"</div>\"}};\n\n  function display_loaded() {\n    const el = document.getElementById(\"1213\");\n    if (el != null) {\n      el.textContent = \"BokehJS is loading...\";\n    }\n    if (root.Bokeh !== undefined) {\n      if (el != null) {\n        el.textContent = \"BokehJS \" + root.Bokeh.version + \" successfully loaded.\";\n      }\n    } else if (Date.now() < root._bokeh_timeout) {\n      setTimeout(display_loaded, 100)\n    }\n  }\n\n\n  function run_callbacks() {\n    try {\n      root._bokeh_onload_callbacks.forEach(function(callback) {\n        if (callback != null)\n          callback();\n      });\n    } finally {\n      delete root._bokeh_onload_callbacks\n    }\n    console.debug(\"Bokeh: all callbacks have finished\");\n  }\n\n  function load_libs(css_urls, js_urls, callback) {\n    if (css_urls == null) css_urls = [];\n    if (js_urls == null) js_urls = [];\n\n    root._bokeh_onload_callbacks.push(callback);\n    if (root._bokeh_is_loading > 0) {\n      console.debug(\"Bokeh: BokehJS is being loaded, scheduling callback at\", now());\n      return null;\n    }\n    if (js_urls == null || js_urls.length === 0) {\n      run_callbacks();\n      return null;\n    }\n    console.debug(\"Bokeh: BokehJS not loaded, scheduling load and callback at\", now());\n    root._bokeh_is_loading = css_urls.length + js_urls.length;\n\n    function on_load() {\n      root._bokeh_is_loading--;\n      if (root._bokeh_is_loading === 0) {\n        console.debug(\"Bokeh: all BokehJS libraries/stylesheets loaded\");\n        run_callbacks()\n      }\n    }\n\n    function on_error(url) {\n      console.error(\"failed to load \" + url);\n    }\n\n    for (let i = 0; i < css_urls.length; i++) {\n      const url = css_urls[i];\n      const element = document.createElement(\"link\");\n      element.onload = on_load;\n      element.onerror = on_error.bind(null, url);\n      element.rel = \"stylesheet\";\n      element.type = \"text/css\";\n      element.href = url;\n      console.debug(\"Bokeh: injecting link tag for BokehJS stylesheet: \", url);\n      document.body.appendChild(element);\n    }\n\n    for (let i = 0; i < js_urls.length; i++) {\n      const url = js_urls[i];\n      const element = document.createElement('script');\n      element.onload = on_load;\n      element.onerror = on_error.bind(null, url);\n      element.async = false;\n      element.src = url;\n      console.debug(\"Bokeh: injecting script tag for BokehJS library: \", url);\n      document.head.appendChild(element);\n    }\n  };\n\n  function inject_raw_css(css) {\n    const element = document.createElement(\"style\");\n    element.appendChild(document.createTextNode(css));\n    document.body.appendChild(element);\n  }\n\n  \n  const js_urls = [\"https://cdn.bokeh.org/bokeh/release/bokeh-2.4.2.min.js\", \"https://cdn.bokeh.org/bokeh/release/bokeh-gl-2.4.2.min.js\", \"https://cdn.bokeh.org/bokeh/release/bokeh-widgets-2.4.2.min.js\", \"https://cdn.bokeh.org/bokeh/release/bokeh-tables-2.4.2.min.js\", \"https://cdn.bokeh.org/bokeh/release/bokeh-mathjax-2.4.2.min.js\"];\n  const css_urls = [];\n  \n\n  const inline_js = [\n    function(Bokeh) {\n      Bokeh.set_log_level(\"info\");\n    },\n    function(Bokeh) {\n    \n    \n    }\n  ];\n\n  function run_inline_js() {\n    \n    if (root.Bokeh !== undefined || force === true) {\n      \n    for (let i = 0; i < inline_js.length; i++) {\n      inline_js[i].call(root, root.Bokeh);\n    }\n    if (force === true) {\n        display_loaded();\n      }} else if (Date.now() < root._bokeh_timeout) {\n      setTimeout(run_inline_js, 100);\n    } else if (!root._bokeh_failed_load) {\n      console.log(\"Bokeh: BokehJS failed to load within specified timeout.\");\n      root._bokeh_failed_load = true;\n    } else if (force !== true) {\n      const cell = $(document.getElementById(\"1213\")).parents('.cell').data().cell;\n      cell.output_area.append_execute_result(NB_LOAD_WARNING)\n    }\n\n  }\n\n  if (root._bokeh_is_loading === 0) {\n    console.debug(\"Bokeh: BokehJS loaded, going straight to plotting\");\n    run_inline_js();\n  } else {\n    load_libs(css_urls, js_urls, function() {\n      console.debug(\"Bokeh: BokehJS plotting callback run at\", now());\n      run_inline_js();\n    });\n  }\n}(window));",
      "application/vnd.bokehjs_load.v0+json": "\n(function(root) {\n  function now() {\n    return new Date();\n  }\n\n  const force = true;\n\n  if (typeof root._bokeh_onload_callbacks === \"undefined\" || force === true) {\n    root._bokeh_onload_callbacks = [];\n    root._bokeh_is_loading = undefined;\n  }\n\n  \n\n  \n  if (typeof (root._bokeh_timeout) === \"undefined\" || force === true) {\n    root._bokeh_timeout = Date.now() + 5000;\n    root._bokeh_failed_load = false;\n  }\n\n  const NB_LOAD_WARNING = {'data': {'text/html':\n     \"<div style='background-color: #fdd'>\\n\"+\n     \"<p>\\n\"+\n     \"BokehJS does not appear to have successfully loaded. If loading BokehJS from CDN, this \\n\"+\n     \"may be due to a slow or bad network connection. Possible fixes:\\n\"+\n     \"</p>\\n\"+\n     \"<ul>\\n\"+\n     \"<li>re-rerun `output_notebook()` to attempt to load from CDN again, or</li>\\n\"+\n     \"<li>use INLINE resources instead, as so:</li>\\n\"+\n     \"</ul>\\n\"+\n     \"<code>\\n\"+\n     \"from bokeh.resources import INLINE\\n\"+\n     \"output_notebook(resources=INLINE)\\n\"+\n     \"</code>\\n\"+\n     \"</div>\"}};\n\n  function display_loaded() {\n    const el = document.getElementById(\"1213\");\n    if (el != null) {\n      el.textContent = \"BokehJS is loading...\";\n    }\n    if (root.Bokeh !== undefined) {\n      if (el != null) {\n        el.textContent = \"BokehJS \" + root.Bokeh.version + \" successfully loaded.\";\n      }\n    } else if (Date.now() < root._bokeh_timeout) {\n      setTimeout(display_loaded, 100)\n    }\n  }\n\n\n  function run_callbacks() {\n    try {\n      root._bokeh_onload_callbacks.forEach(function(callback) {\n        if (callback != null)\n          callback();\n      });\n    } finally {\n      delete root._bokeh_onload_callbacks\n    }\n    console.debug(\"Bokeh: all callbacks have finished\");\n  }\n\n  function load_libs(css_urls, js_urls, callback) {\n    if (css_urls == null) css_urls = [];\n    if (js_urls == null) js_urls = [];\n\n    root._bokeh_onload_callbacks.push(callback);\n    if (root._bokeh_is_loading > 0) {\n      console.debug(\"Bokeh: BokehJS is being loaded, scheduling callback at\", now());\n      return null;\n    }\n    if (js_urls == null || js_urls.length === 0) {\n      run_callbacks();\n      return null;\n    }\n    console.debug(\"Bokeh: BokehJS not loaded, scheduling load and callback at\", now());\n    root._bokeh_is_loading = css_urls.length + js_urls.length;\n\n    function on_load() {\n      root._bokeh_is_loading--;\n      if (root._bokeh_is_loading === 0) {\n        console.debug(\"Bokeh: all BokehJS libraries/stylesheets loaded\");\n        run_callbacks()\n      }\n    }\n\n    function on_error(url) {\n      console.error(\"failed to load \" + url);\n    }\n\n    for (let i = 0; i < css_urls.length; i++) {\n      const url = css_urls[i];\n      const element = document.createElement(\"link\");\n      element.onload = on_load;\n      element.onerror = on_error.bind(null, url);\n      element.rel = \"stylesheet\";\n      element.type = \"text/css\";\n      element.href = url;\n      console.debug(\"Bokeh: injecting link tag for BokehJS stylesheet: \", url);\n      document.body.appendChild(element);\n    }\n\n    for (let i = 0; i < js_urls.length; i++) {\n      const url = js_urls[i];\n      const element = document.createElement('script');\n      element.onload = on_load;\n      element.onerror = on_error.bind(null, url);\n      element.async = false;\n      element.src = url;\n      console.debug(\"Bokeh: injecting script tag for BokehJS library: \", url);\n      document.head.appendChild(element);\n    }\n  };\n\n  function inject_raw_css(css) {\n    const element = document.createElement(\"style\");\n    element.appendChild(document.createTextNode(css));\n    document.body.appendChild(element);\n  }\n\n  \n  const js_urls = [\"https://cdn.bokeh.org/bokeh/release/bokeh-2.4.2.min.js\", \"https://cdn.bokeh.org/bokeh/release/bokeh-gl-2.4.2.min.js\", \"https://cdn.bokeh.org/bokeh/release/bokeh-widgets-2.4.2.min.js\", \"https://cdn.bokeh.org/bokeh/release/bokeh-tables-2.4.2.min.js\", \"https://cdn.bokeh.org/bokeh/release/bokeh-mathjax-2.4.2.min.js\"];\n  const css_urls = [];\n  \n\n  const inline_js = [\n    function(Bokeh) {\n      Bokeh.set_log_level(\"info\");\n    },\n    function(Bokeh) {\n    \n    \n    }\n  ];\n\n  function run_inline_js() {\n    \n    if (root.Bokeh !== undefined || force === true) {\n      \n    for (let i = 0; i < inline_js.length; i++) {\n      inline_js[i].call(root, root.Bokeh);\n    }\n    if (force === true) {\n        display_loaded();\n      }} else if (Date.now() < root._bokeh_timeout) {\n      setTimeout(run_inline_js, 100);\n    } else if (!root._bokeh_failed_load) {\n      console.log(\"Bokeh: BokehJS failed to load within specified timeout.\");\n      root._bokeh_failed_load = true;\n    } else if (force !== true) {\n      const cell = $(document.getElementById(\"1213\")).parents('.cell').data().cell;\n      cell.output_area.append_execute_result(NB_LOAD_WARNING)\n    }\n\n  }\n\n  if (root._bokeh_is_loading === 0) {\n    console.debug(\"Bokeh: BokehJS loaded, going straight to plotting\");\n    run_inline_js();\n  } else {\n    load_libs(css_urls, js_urls, function() {\n      console.debug(\"Bokeh: BokehJS plotting callback run at\", now());\n      run_inline_js();\n    });\n  }\n}(window));"
     },
     "metadata": {},
     "output_type": "display_data"
    },
    {
     "data": {
      "text/html": "\n\n\n\n\n\n  <div class=\"bk-root\" id=\"deff16f3-b9f1-44ad-86a6-cb924b6e1528\" data-root-id=\"1174\"></div>\n"
     },
     "metadata": {},
     "output_type": "display_data"
    },
    {
     "data": {
      "application/javascript": "(function(root) {\n  function embed_document(root) {\n    \n  const docs_json = {\"2f438c99-f2eb-4e94-bea5-b36cb266b2ee\":{\"defs\":[],\"roots\":{\"references\":[{\"attributes\":{\"below\":[{\"id\":\"1183\"}],\"center\":[{\"id\":\"1186\"},{\"id\":\"1190\"}],\"left\":[{\"id\":\"1187\"}],\"renderers\":[{\"id\":\"1211\"}],\"title\":{\"id\":\"1225\"},\"toolbar\":{\"id\":\"1199\"},\"x_range\":{\"id\":\"1175\"},\"x_scale\":{\"id\":\"1179\"},\"y_range\":{\"id\":\"1177\"},\"y_scale\":{\"id\":\"1181\"}},\"id\":\"1174\",\"subtype\":\"Figure\",\"type\":\"Plot\"},{\"attributes\":{\"fill_alpha\":{\"value\":0.2},\"fill_color\":{\"value\":\"#1f77b4\"},\"hatch_alpha\":{\"value\":0.2},\"line_alpha\":{\"value\":0.2},\"line_color\":{\"value\":\"#1f77b4\"},\"size\":{\"field\":\"size\"},\"x\":{\"field\":\"n_samples\"},\"y\":{\"field\":\"n_rec_crimes\"}},\"id\":\"1210\",\"type\":\"Circle\"},{\"attributes\":{\"coordinates\":null,\"data_source\":{\"id\":\"1173\"},\"glyph\":{\"id\":\"1208\"},\"group\":null,\"hover_glyph\":null,\"muted_glyph\":{\"id\":\"1210\"},\"nonselection_glyph\":{\"id\":\"1209\"},\"view\":{\"id\":\"1212\"}},\"id\":\"1211\",\"type\":\"GlyphRenderer\"},{\"attributes\":{},\"id\":\"1231\",\"type\":\"BasicTickFormatter\"},{\"attributes\":{\"tools\":[{\"id\":\"1191\"},{\"id\":\"1192\"},{\"id\":\"1193\"},{\"id\":\"1194\"},{\"id\":\"1195\"},{\"id\":\"1196\"},{\"id\":\"1198\"}]},\"id\":\"1199\",\"type\":\"Toolbar\"},{\"attributes\":{},\"id\":\"1232\",\"type\":\"AllLabels\"},{\"attributes\":{},\"id\":\"1229\",\"type\":\"AllLabels\"},{\"attributes\":{},\"id\":\"1228\",\"type\":\"BasicTickFormatter\"},{\"attributes\":{\"fill_alpha\":{\"value\":0.1},\"fill_color\":{\"value\":\"#1f77b4\"},\"hatch_alpha\":{\"value\":0.1},\"line_alpha\":{\"value\":0.1},\"line_color\":{\"value\":\"#1f77b4\"},\"size\":{\"field\":\"size\"},\"x\":{\"field\":\"n_samples\"},\"y\":{\"field\":\"n_rec_crimes\"}},\"id\":\"1209\",\"type\":\"Circle\"},{\"attributes\":{},\"id\":\"1195\",\"type\":\"ResetTool\"},{\"attributes\":{},\"id\":\"1181\",\"type\":\"LinearScale\"},{\"attributes\":{},\"id\":\"1194\",\"type\":\"SaveTool\"},{\"attributes\":{\"source\":{\"id\":\"1173\"}},\"id\":\"1212\",\"type\":\"CDSView\"},{\"attributes\":{},\"id\":\"1188\",\"type\":\"BasicTicker\"},{\"attributes\":{},\"id\":\"1179\",\"type\":\"LinearScale\"},{\"attributes\":{},\"id\":\"1233\",\"type\":\"UnionRenderers\"},{\"attributes\":{\"bottom_units\":\"screen\",\"coordinates\":null,\"fill_alpha\":0.5,\"fill_color\":\"lightgrey\",\"group\":null,\"left_units\":\"screen\",\"level\":\"overlay\",\"line_alpha\":1.0,\"line_color\":\"black\",\"line_dash\":[4,4],\"line_width\":2,\"right_units\":\"screen\",\"syncable\":false,\"top_units\":\"screen\"},\"id\":\"1197\",\"type\":\"BoxAnnotation\"},{\"attributes\":{\"coordinates\":null,\"group\":null},\"id\":\"1225\",\"type\":\"Title\"},{\"attributes\":{},\"id\":\"1234\",\"type\":\"Selection\"},{\"attributes\":{},\"id\":\"1184\",\"type\":\"BasicTicker\"},{\"attributes\":{\"overlay\":{\"id\":\"1197\"}},\"id\":\"1193\",\"type\":\"BoxZoomTool\"},{\"attributes\":{\"data\":{\"frac_crimes\":{\"__ndarray__\":\"dw0/PqS94D+EEEIIIYTQP/ch32EEBNk/dk40eKXD1z8XXXTRRRfdP6R8zyYUI9c/\",\"dtype\":\"float64\",\"order\":\"little\",\"shape\":[6]},\"n_rec_crimes\":[1661,8,822,189,5,124],\"n_samples\":[3175,31,2103,509,11,343],\"race\":[\"African-American\",\"Asian\",\"Caucasian\",\"Hispanic\",\"Native American\",\"Other\"],\"size\":{\"__ndarray__\":\"x+PxeDyeQ0Bba6211lozQM17sSK1UD1A8kvd6EXZO0CLLrroogtBQBAme50bHTtA\",\"dtype\":\"float64\",\"order\":\"little\",\"shape\":[6]}},\"selected\":{\"id\":\"1234\"},\"selection_policy\":{\"id\":\"1233\"}},\"id\":\"1173\",\"type\":\"ColumnDataSource\"},{\"attributes\":{},\"id\":\"1196\",\"type\":\"HelpTool\"},{\"attributes\":{},\"id\":\"1177\",\"type\":\"DataRange1d\"},{\"attributes\":{\"fill_color\":{\"value\":\"#1f77b4\"},\"line_color\":{\"value\":\"#1f77b4\"},\"size\":{\"field\":\"size\"},\"x\":{\"field\":\"n_samples\"},\"y\":{\"field\":\"n_rec_crimes\"}},\"id\":\"1208\",\"type\":\"Circle\"},{\"attributes\":{\"axis\":{\"id\":\"1183\"},\"coordinates\":null,\"group\":null,\"ticker\":null},\"id\":\"1186\",\"type\":\"Grid\"},{\"attributes\":{\"coordinates\":null,\"formatter\":{\"id\":\"1231\"},\"group\":null,\"major_label_policy\":{\"id\":\"1232\"},\"ticker\":{\"id\":\"1184\"}},\"id\":\"1183\",\"type\":\"LinearAxis\"},{\"attributes\":{},\"id\":\"1192\",\"type\":\"WheelZoomTool\"},{\"attributes\":{},\"id\":\"1175\",\"type\":\"DataRange1d\"},{\"attributes\":{\"callback\":null,\"tooltips\":[[\"race\",\"@race\"],[\"fraction\",\"@frac_crimes\"]]},\"id\":\"1198\",\"type\":\"HoverTool\"},{\"attributes\":{\"coordinates\":null,\"formatter\":{\"id\":\"1228\"},\"group\":null,\"major_label_policy\":{\"id\":\"1229\"},\"ticker\":{\"id\":\"1188\"}},\"id\":\"1187\",\"type\":\"LinearAxis\"},{\"attributes\":{},\"id\":\"1191\",\"type\":\"PanTool\"},{\"attributes\":{\"axis\":{\"id\":\"1187\"},\"coordinates\":null,\"dimension\":1,\"group\":null,\"ticker\":null},\"id\":\"1190\",\"type\":\"Grid\"}],\"root_ids\":[\"1174\"]},\"title\":\"Bokeh Application\",\"version\":\"2.4.2\"}};\n  const render_items = [{\"docid\":\"2f438c99-f2eb-4e94-bea5-b36cb266b2ee\",\"root_ids\":[\"1174\"],\"roots\":{\"1174\":\"deff16f3-b9f1-44ad-86a6-cb924b6e1528\"}}];\n  root.Bokeh.embed.embed_items_notebook(docs_json, render_items);\n\n  }\n  if (root.Bokeh !== undefined) {\n    embed_document(root);\n  } else {\n    let attempts = 0;\n    const timer = setInterval(function(root) {\n      if (root.Bokeh !== undefined) {\n        clearInterval(timer);\n        embed_document(root);\n      } else {\n        attempts++;\n        if (attempts > 100) {\n          clearInterval(timer);\n          console.log(\"Bokeh: ERROR: Unable to run BokehJS code because BokehJS library is missing\");\n        }\n      }\n    }, 10, root)\n  }\n})(window);",
      "application/vnd.bokehjs_exec.v0+json": ""
     },
     "metadata": {
      "application/vnd.bokehjs_exec.v0+json": {
       "id": "1174"
      }
     },
     "output_type": "display_data"
    }
   ],
   "source": [
    "TOOLTIPS = [\n",
    "    ('race', '@race'),\n",
    "    ('fraction', '@frac_crimes')\n",
    "]\n",
    "\n",
    "p = figure(tooltips=TOOLTIPS)\n",
    "\n",
    "p.circle('n_samples', 'n_rec_crimes', size='size', source=source)\n",
    "\n",
    "output_notebook()\n",
    "show(p)"
   ]
  },
  {
   "cell_type": "markdown",
   "source": [
    "Some races such as Asian and Native American have much less samples than African Americans. For the smaller groups it is much less representative of the actual fraction of recomitted crimes as there isn't enough data available."
   ],
   "metadata": {
    "collapsed": false,
    "pycharm": {
     "name": "#%% md\n"
    }
   }
  },
  {
   "cell_type": "markdown",
   "metadata": {},
   "source": [
    "<details>\n",
    "    <summary>Ok, it is now time to uncover where this data is coming from. <b>Only click on this cell to open it after you have completed the exercise above</b></summary>\n",
    "    The data we are using is related to:\n",
    "    <ul>\n",
    "        <li> <b>COMPAS</b> (Correctional Offender Management Profiling for Alternative Sanctions), a <a href=https://towardsdatascience.com/compas-case-study-fairness-of-a-machine-learning-model-f0f804108751>popular commercial algorithm</a> used by judges and parole officers for scoring criminal defendant’s likelihood of reoffending (recidivism).  </li>\n",
    "        <li> Multiple works have shown that the algorithm is biased towards non-caucasian people. <b>ProPublica</b> has published an <a href=https://www.propublica.org/article/how-we-analyzed-the-compas-recidivism-algorithm>extensive work</a> on the topic. </li>\n",
    "    </ul>\n",
    "</details>"
   ]
  },
  {
   "cell_type": "markdown",
   "metadata": {},
   "source": [
    "## Part 2: Visualize the results of a Machine Learning model"
   ]
  },
  {
   "cell_type": "markdown",
   "metadata": {},
   "source": [
    "Above, we had a deeper look at the recidivism dataset and the visualizations we created highlighted some possible issues/imbalances with the data and especially with race. \n",
    "\n",
    "If you had a look at the hidden information cell above, now you know what the problems are with this dataset and with using it to predict recidivism. During Week 6, you trained a classification model to predict criminal recidivism on this data. Now, a question might rise... Is your model biased? If yes, can you do anything about it?\n",
    "\n",
    "You will now use visualization to better understand the results of your model. This is one of the reasons why visualization is so powerful. Not only it allows us to explore data and create an understanding of the different aspects of it, but it also allows us to understand ML models and their performance!\n",
    "\n",
    "In the next exercise, use the model you have trained/tested in Week 6 by using only the columns selected in Week 6, Exercise 3.1 and by preprocessing as in Exercise 3.2."
   ]
  },
  {
   "cell_type": "markdown",
   "metadata": {},
   "source": [
    "> *Exercise 2:* Evaluating the quality of predictions. One of the simplest ways to get a glimpse into the performance of an classification model is to look at the [Confustion Matrix](https://towardsdatascience.com/understanding-confusion-matrix-a9ad42dcfd62).\n",
    ">\n",
    "> * Create a confusion matrix that evaluates the performance of your model. What do you observe?\n",
    "> * Now, create a confusion matrix for specific groups:\n",
    ">    * Take targets and predictions only for *Caucasians*,\n",
    ">    * Take targets and predictions only for *African-Americans*.\n",
    ">    * Create a confusion matrix for each group. What do you see when you compare the two confusion matrices? Explain in your own words how this might affect the overall fairness of your model.\n",
    "\n",
    "Again, after giving an answer to the questions above, **take a minute and discuss** your thoughts with your neighbour or one of your group members."
   ]
  },
  {
   "cell_type": "code",
   "execution_count": 30,
   "outputs": [],
   "source": [
    "from sklearn.preprocessing import LabelEncoder\n",
    "from sklearn.model_selection import train_test_split\n",
    "# Ignore deprecation warnings\n",
    "import warnings\n",
    "\n",
    "warnings.filterwarnings(\"ignore\")\n",
    "\n",
    "from sklearn.ensemble import RandomForestClassifier\n",
    "\n",
    "import matplotlib.pyplot as plt"
   ],
   "metadata": {
    "collapsed": false,
    "pycharm": {
     "name": "#%%\n"
    }
   }
  },
  {
   "cell_type": "code",
   "execution_count": 31,
   "outputs": [],
   "source": [
    "columns = ['age', 'sex', 'race', 'juv_fel_count', 'juv_misd_count', 'priors_count']\n",
    "target = ['two_year_recid']"
   ],
   "metadata": {
    "collapsed": false,
    "pycharm": {
     "name": "#%%\n"
    }
   }
  },
  {
   "cell_type": "code",
   "execution_count": 32,
   "outputs": [],
   "source": [
    "from sklearn.metrics import plot_confusion_matrix\n",
    "\n",
    "\n",
    "def build_data(df):\n",
    "    df_model = df.copy()\n",
    "    categorical_features = ['sex', 'race']\n",
    "    encoder = LabelEncoder()\n",
    "\n",
    "    for col in categorical_features:\n",
    "        df_model[col] = encoder.fit_transform(df_model[col])\n",
    "\n",
    "    return df_model, encoder\n",
    "\n",
    "\n",
    "df_model, encoder = build_data(df)\n",
    "\n",
    "X_train, X_test, y_train, y_test = train_test_split(df_model[columns], df_model[target], test_size=0.3)\n",
    "\n",
    "model = RandomForestClassifier(n_estimators=100)\n",
    "model = model.fit(X=X_train, y=y_train)"
   ],
   "metadata": {
    "collapsed": false,
    "pycharm": {
     "name": "#%%\n"
    }
   }
  },
  {
   "cell_type": "markdown",
   "source": [
    "Get the class mappings"
   ],
   "metadata": {
    "collapsed": false,
    "pycharm": {
     "name": "#%% md\n"
    }
   }
  },
  {
   "cell_type": "code",
   "execution_count": 33,
   "outputs": [
    {
     "data": {
      "text/plain": "{'Other': 5,\n 'African-American': 0,\n 'Caucasian': 2,\n 'Hispanic': 3,\n 'Asian': 1,\n 'Native American': 4}"
     },
     "execution_count": 33,
     "metadata": {},
     "output_type": "execute_result"
    }
   ],
   "source": [
    "dict(zip(df.race.unique(), encoder.transform(df.race.unique())))"
   ],
   "metadata": {
    "collapsed": false,
    "pycharm": {
     "name": "#%%\n"
    }
   }
  },
  {
   "cell_type": "code",
   "execution_count": 34,
   "outputs": [
    {
     "data": {
      "text/plain": "<Figure size 432x288 with 2 Axes>",
      "image/png": "[encoded data removed]"
     },
     "metadata": {
      "needs_background": "light"
     },
     "output_type": "display_data"
    }
   ],
   "source": [
    "plot_confusion_matrix(model, X=X_test, y_true=y_test, cmap='autumn', normalize='all')\n",
    "plt.show()"
   ],
   "metadata": {
    "collapsed": false,
    "pycharm": {
     "name": "#%%\n"
    }
   }
  },
  {
   "cell_type": "code",
   "execution_count": 35,
   "outputs": [
    {
     "data": {
      "text/plain": "<Figure size 432x288 with 2 Axes>",
      "image/png": "[encoded data removed]"
     },
     "metadata": {
      "needs_background": "light"
     },
     "output_type": "display_data"
    },
    {
     "data": {
      "text/plain": "<Figure size 432x288 with 2 Axes>",
      "image/png": "[encoded data removed]"
     },
     "metadata": {
      "needs_background": "light"
     },
     "output_type": "display_data"
    }
   ],
   "source": [
    "cauc_idx = X_test.query('race == 2').index\n",
    "\n",
    "X_test_cauc = X_test.filter(items = cauc_idx, axis=0)\n",
    "y_test_cauc = y_test.filter(items = cauc_idx, axis=0)\n",
    "\n",
    "plot_confusion_matrix(model, X=X_test_cauc, y_true=y_test_cauc, cmap='autumn', normalize='all')\n",
    "plt.title('Caucasian confusion matrix')\n",
    "\n",
    "afro_idx = X_test.query('race == 0').index\n",
    "\n",
    "X_test_afro = X_test.filter(items = afro_idx, axis=0)\n",
    "y_test_afro = y_test.filter(items = afro_idx, axis=0)\n",
    "\n",
    "plot_confusion_matrix(model, X=X_test_afro, y_true=y_test_afro, cmap='autumn', normalize='all')\n",
    "plt.title('African-American confusion matrix')\n",
    "plt.show()\n"
   ],
   "metadata": {
    "collapsed": false,
    "pycharm": {
     "name": "#%%\n"
    }
   }
  },
  {
   "cell_type": "markdown",
   "source": [
    "We observe that the models have a high number of false-positives and false-negatives. For Caucasians it predicts 4% more false negatives than the African American one. This shows that the model tends to bias Caucasians as less offending than other races."
   ],
   "metadata": {
    "collapsed": false,
    "pycharm": {
     "name": "#%% md\n"
    }
   }
  },
  {
   "cell_type": "markdown",
   "metadata": {},
   "source": [
    "<details>\n",
    "    <summary> Exercise 2 interpretation hint <b>(Only open after you have completed the exercise above)</b></summary>\n",
    "    <ul>\n",
    "        <li>It seems that our model has higher number of <b>False-Positives</b> or <b>False-Negatives</b> for different groups of people. Go back to Exercise 2 if you did not spot this difference and think at the related implication. </li>\n",
    "      <li>Several researchers also noticed this issue. The following essay by Ellora Thadaney Israni describes the potential issues with the algorithm and data: <a href = https://www.nytimes.com/2017/10/26/opinion/algorithm-compas-sentencing-bias.html> When an Algorithm Helps Send You to Prison </a> (If you don't have access to it you can find the article on DTU Learn -> Course Content -> Content -> Lecture 7 reading)</li>\n",
    "    </ul>\n",
    "</details>"
   ]
  },
  {
   "cell_type": "markdown",
   "metadata": {},
   "source": [
    "## Part 3: Fairness and bias in Machine Learning"
   ]
  },
  {
   "cell_type": "markdown",
   "metadata": {},
   "source": [
    "Before we try to fix our model, let's understand bias better and get some intuition about it. In the video below I summarize different types of bias. \n",
    "\n",
    "[![IMAGE ALT TEXT HERE](https://img.youtube.com/vi/tcz800ZXclA/0.jpg)](https://www.youtube.com/watch?v=tcz800ZXclA)"
   ]
  },
  {
   "cell_type": "markdown",
   "metadata": {},
   "source": [
    ">*Exercise 3.1:* Have you watched the video? A few questions to make sure you did.\n",
    "> * What does **data bias** mean?\n",
    "> * What are the most common types of data bias? \n",
    "> * Choose two types of data bias and explain them by also providing some examples.\n",
    "> * How can data bias be identified? \n",
    "> * At what step of the process can we correct for bias?\n",
    "> * What do you think are the potential bias sources in our case-study (i.e. recidivism)?"
   ]
  },
  {
   "cell_type": "markdown",
   "metadata": {},
   "source": [
    "Alright, now we know a bit more about bias... but how do we correct it in practice? There are many ways, and you are going to test a couple of methods to correct the predictions on recidivism to enhance the fairness of your model.\n",
    "\n",
    "Germans and I had a nice chat about it and recorded a video to introduce you with two methods: *Demographic Pairity* and *Equal Odds*!\n",
    "\n",
    "[![IMAGE ALT TEXT HERE](https://img.youtube.com/vi/DHz1xDKT4xw/0.jpg)](https://www.youtube.com/watch?v=DHz1xDKT4xw)"
   ]
  },
  {
   "cell_type": "markdown",
   "metadata": {},
   "source": [
    "In the following exercises we are going to focus only on the *African-American* and *Caucasian* groups as they have more data samples in our data (however, you can repeat the steps for other demographics too!)."
   ]
  },
  {
   "cell_type": "markdown",
   "metadata": {},
   "source": [
    "> *Exercise 3.2:* Demographic Parity. In this exercise, we are going to implement the function for Demographic Parity and apply it to the results of your ML model (i.e. on the predictions of the Test set).\n",
    ">\n",
    "> * Compute the probability of predicting recidivism ($\\hat{y}=1$) for the two populations, i.e. $P_{AA}$ for African-American and $P_{CA}$ for Caucasian. What do you observe?\n",
    "> * To debias the output you need to:\n",
    ">    * Compute the threshold as $th = 1 - \\frac{P_{CA}}{P_{AA}}$;\n",
    ">    * randomly flip positive prediction to negative (1s to 0s), i.e. pick a random number $n\\in\\left[0,1\\right)$ from a uniform distribution and flip a positive prediction if $n < th$.\n",
    "> * Recompute the probabilities $P_{CA}$ and $P_{AA}$ (only now they are corrected). What do you observe?\n",
    "> * Plot the confusion matrices with the corrected values. What do you observe?\n",
    "> * Explain what could be the issue with this method. We have discussed it in the video 😉"
   ]
  },
  {
   "cell_type": "code",
   "execution_count": 36,
   "outputs": [],
   "source": [
    "n_population = df.query('(race in [\"Caucasian\", \"African-American\"])').value_counts('race').sum()"
   ],
   "metadata": {
    "collapsed": false,
    "pycharm": {
     "name": "#%%\n"
    }
   }
  },
  {
   "cell_type": "code",
   "execution_count": 37,
   "outputs": [
    {
     "data": {
      "text/plain": "race\nAfrican-American    0.314703\nCaucasian           0.155741\ndtype: float64"
     },
     "execution_count": 37,
     "metadata": {},
     "output_type": "execute_result"
    }
   ],
   "source": [
    "probs = df.query('(race in [\"Caucasian\", \"African-American\"]) and (two_year_recid == 1)').value_counts(\n",
    "    'race') / n_population\n",
    "probs"
   ],
   "metadata": {
    "collapsed": false,
    "pycharm": {
     "name": "#%%\n"
    }
   }
  },
  {
   "cell_type": "code",
   "execution_count": 38,
   "outputs": [
    {
     "name": "stdout",
     "output_type": "stream",
     "text": [
      "Threshold 0.505\n"
     ]
    }
   ],
   "source": [
    "th = 1 - (probs[1] / probs[0])\n",
    "print(f'Threshold {th:.3f}')"
   ],
   "metadata": {
    "collapsed": false,
    "pycharm": {
     "name": "#%%\n"
    }
   }
  },
  {
   "cell_type": "code",
   "execution_count": 39,
   "outputs": [],
   "source": [
    "from numpy.random import random"
   ],
   "metadata": {
    "collapsed": false,
    "pycharm": {
     "name": "#%%\n"
    }
   }
  },
  {
   "cell_type": "code",
   "execution_count": 40,
   "outputs": [],
   "source": [
    "df['two_year_recid_adj'] = df.apply(\n",
    "    lambda x: 0 if (x['two_year_recid'] == 1) and (random(1) < th) else x['two_year_recid'], axis=1)"
   ],
   "metadata": {
    "collapsed": false,
    "pycharm": {
     "name": "#%%\n"
    }
   }
  },
  {
   "cell_type": "code",
   "execution_count": 41,
   "outputs": [
    {
     "data": {
      "text/plain": "race\nAfrican-American    0.160667\nCaucasian           0.080712\ndtype: float64"
     },
     "execution_count": 41,
     "metadata": {},
     "output_type": "execute_result"
    }
   ],
   "source": [
    "probs = df.query('(race in [\"Caucasian\", \"African-American\"]) and (two_year_recid_adj == 1)').value_counts(\n",
    "    'race') / n_population\n",
    "probs"
   ],
   "metadata": {
    "collapsed": false,
    "pycharm": {
     "name": "#%%\n"
    }
   }
  },
  {
   "cell_type": "markdown",
   "source": [
    "The African-American bias is significantly reduced!"
   ],
   "metadata": {
    "collapsed": false,
    "pycharm": {
     "name": "#%% md\n"
    }
   }
  },
  {
   "cell_type": "markdown",
   "source": [
    "We plot confusion matricies"
   ],
   "metadata": {
    "collapsed": false,
    "pycharm": {
     "name": "#%% md\n"
    }
   }
  },
  {
   "cell_type": "code",
   "execution_count": 42,
   "outputs": [
    {
     "data": {
      "text/plain": "<Figure size 432x288 with 2 Axes>",
      "image/png": "[encoded data removed]"
     },
     "metadata": {
      "needs_background": "light"
     },
     "output_type": "display_data"
    },
    {
     "data": {
      "text/plain": "<Figure size 432x288 with 2 Axes>",
      "image/png": "[encoded data removed]"
     },
     "metadata": {
      "needs_background": "light"
     },
     "output_type": "display_data"
    }
   ],
   "source": [
    "df_model, encoder = build_data(df)\n",
    "\n",
    "target = 'two_year_recid_adj'\n",
    "X_train, X_test, y_train, y_test = train_test_split(df_model[columns], df_model[target], test_size=0.3)\n",
    "\n",
    "model_adjusted = RandomForestClassifier(n_estimators=100)\n",
    "model_adjusted = model_adjusted.fit(X=X_train, y=y_train)\n",
    "\n",
    "plot_confusion_matrix(model_adjusted, X=X_test_cauc, y_true=y_test_cauc, cmap='autumn', normalize='all')\n",
    "plt.title('Caucasian confusion matrix')\n",
    "\n",
    "plot_confusion_matrix(model_adjusted, X=X_test_afro, y_true=y_test_afro, cmap='autumn', normalize='all')\n",
    "plt.title('African-American confusion matrix')\n",
    "plt.show()\n"
   ],
   "metadata": {
    "collapsed": false,
    "pycharm": {
     "name": "#%%\n"
    }
   }
  },
  {
   "cell_type": "markdown",
   "source": [
    "**WRITE COMMENTS**\n",
    "\n",
    "Something about African American bias being reduced.\n",
    "\n",
    "Difficulties: we manipulate the data and also flip the actual positives of minority classes."
   ],
   "metadata": {
    "collapsed": false,
    "pycharm": {
     "name": "#%% md\n"
    }
   }
  },
  {
   "cell_type": "markdown",
   "metadata": {},
   "source": [
    "You are almost there! In the following you will use the Equal Odds method to correct your predictions. It seems long, but don't worry it is because I added a bit more code, steps, hints for this one."
   ]
  },
  {
   "cell_type": "markdown",
   "metadata": {},
   "source": [
    "> *Exercise 3.3:* Equal Odds. As in the exercise above we are going to use the results of you ML model on the test set.\n",
    "> * This method takes into account the predictions of your model $\\hat{y}$ for different thresholds $th$:\n",
    ">    * Get the probabilities out of your model by using `y_prob = model.predict_proba(X_test)` (here, `model` is your model).\n",
    ">    * Define the thresholds as `ths = np.linspace(1e-5,1-1e-5, 10)` (you can edit this one to have different thresholds). Now, you can find $\\hat{y}$ as:\n",
    ">\n",
    ">\n",
    ">$$\\begin{cases}\\hat{y}=1, \\mbox{ if } y_{prob} > th \\\\ \\hat{y}=0, \\mbox{ otherwhise}\\end{cases}$$\n",
    ">\n",
    ">\n",
    "> * Implement a function that takes as an input $y$ (i.e the target labels), $\\hat{y}$, and `ths` and returns the true-positive rate $TPR$ and the false-positive rate $FPR$ (definitions in the video above)."
   ]
  },
  {
   "cell_type": "code",
   "execution_count": 43,
   "outputs": [],
   "source": [
    "from sklearn.metrics import confusion_matrix\n",
    "import numpy as np\n",
    "\n",
    "\n",
    "def get_y_hat(y_prob, th):\n",
    "    \"\"\"\n",
    "    :param y_prob: Model probabilities\n",
    "    :param th: a threshold between 0 and 1\n",
    "    :return: Equal odds transformed probabilities\n",
    "    \"\"\"\n",
    "    return [1 if x > th else 0 for x in y_prob[:, 1]]\n",
    "\n",
    "\n",
    "def get_tpr_fpr(y_hat, y_true):\n",
    "    \"\"\"\n",
    "    :param y_true: True targets\n",
    "    :return: true positive rate and false positive rate\n",
    "    \"\"\"\n",
    "    tn, fp, fn, tp = confusion_matrix(y_true, y_hat).ravel()\n",
    "    return tp, fp"
   ],
   "metadata": {
    "collapsed": false,
    "pycharm": {
     "name": "#%%\n"
    }
   }
  },
  {
   "cell_type": "code",
   "execution_count": 44,
   "outputs": [
    {
     "data": {
      "text/plain": "(424, 1184)"
     },
     "execution_count": 44,
     "metadata": {},
     "output_type": "execute_result"
    }
   ],
   "source": [
    "y_hat = get_y_hat(model.predict_proba(X_test), 0.1)\n",
    "get_tpr_fpr(y_hat, y_test)"
   ],
   "metadata": {
    "collapsed": false,
    "pycharm": {
     "name": "#%%\n"
    }
   }
  },
  {
   "cell_type": "markdown",
   "source": [
    "> * Now, you need to find the thresholds that lead to the closest points for the two groups on the [ROC curve](https://en.wikipedia.org/wiki/Receiver_operating_characteristic). The first way is by using the functions below in your code to find the thresholds that lead to the smaller distance (**but suitable FPR and TPR**):\n",
    "> ```python\n",
    "    #This function takes as an input y, y_probs, thr\n",
    "    #and returns the points to plot the ROC curve and their threshold\n",
    "    def roc_curve(y, y_probs, ths):\n",
    "        #initialize roc as an empty np.array\n",
    "        roc = np.array([])\n",
    "        #loop over thresholds\n",
    "        for th in ths:\n",
    "          #convert y_prob in y_hat\n",
    "          y_hat = ADD_YOUR_FUNCTION_HERE(y_prob,th)\n",
    "          #compute TPR and FPR\n",
    "          TPR, FPR = ADD_YOUR_FUNCTION_HERE(y, y_hat)\n",
    "          #add threshold and point to roc array\n",
    "          roc = np.append(roc, [th, FPR, TPR])\n",
    "       #return roc\n",
    "       return roc.reshape(-1, 3)\n",
    "> ```\n",
    "> ```python\n",
    "    #This function takes as an input the points from one roc (first group) and the other (second group) and order the points by their distance in ascending order\n",
    "    def closest_points(points1, points2):\n",
    "        #initialize result\n",
    "        res = list()\n",
    "        #loop over points in group 1\n",
    "        for pi in points1:\n",
    "          #loop over points in group 2\n",
    "          for pj in points2:\n",
    "            #add points and their distance to res\n",
    "            res.append(((pi, pj), np.linalg.norm(pi[1:] - pj[1:])))\n",
    "        #return sorted result\n",
    "        return sorted(res, key = lambda x: x[1])\n"
   ],
   "metadata": {
    "collapsed": false
   }
  },
  {
   "cell_type": "code",
   "execution_count": 45,
   "outputs": [],
   "source": [
    "#This function takes as an input y, y_probs, thr\n",
    "#and returns the points to plot the ROC curve and their threshold\n",
    "def roc_curve(y, y_probs, ths):\n",
    "    #initialize roc as an empty np.array\n",
    "    roc = np.array([])\n",
    "    #loop over thresholds\n",
    "    for th in ths:\n",
    "        #convert y_prob in y_hat\n",
    "        y_hat = get_y_hat(y_probs, th)\n",
    "        #compute TPR and FPR\n",
    "        TPR, FPR = get_tpr_fpr(y, y_hat)\n",
    "        #add threshold and point to roc array\n",
    "        roc = np.append(roc, [th, FPR, TPR])\n",
    "\n",
    "    #return roc\n",
    "    return roc.reshape(-1, 3)"
   ],
   "metadata": {
    "collapsed": false,
    "pycharm": {
     "name": "#%%\n"
    }
   }
  },
  {
   "cell_type": "code",
   "execution_count": 46,
   "outputs": [],
   "source": [
    "#This function takes as an input the points from one roc (first group) and the other (second group) and order the points by their distance in ascending order\n",
    "def closest_points(points1, points2):\n",
    "    #initialize result\n",
    "    res = list()\n",
    "    #loop over points in group 1\n",
    "    for pi in points1:\n",
    "        #loop over points in group 2\n",
    "        for pj in points2:\n",
    "            #add points and their distance to res\n",
    "            res.append(((pi, pj), np.linalg.norm(pi[1:] - pj[1:])))\n",
    "\n",
    "    #return sorted result\n",
    "    return sorted(res, key=lambda x: x[1])"
   ],
   "metadata": {
    "collapsed": false,
    "pycharm": {
     "name": "#%%\n"
    }
   }
  },
  {
   "cell_type": "code",
   "execution_count": 47,
   "outputs": [
    {
     "data": {
      "text/plain": "[((array([1.11118889e-01, 3.10000000e+01, 2.09000000e+02]),\n   array([  0.44444556, 139.        , 323.        ])),\n  157.0350279396288),\n ((array([  0.55555444, 138.        , 102.        ]),\n   array([  0.66666333, 246.        , 216.        ])),\n  157.0350279396288),\n ((array([  0.77777222, 187.        ,  53.        ]),\n   array([  0.77777222, 302.        , 160.        ])),\n  157.07959765672945),\n ((array([  0.33333667,  94.        , 146.        ]),\n   array([  0.55555444, 196.        , 266.        ])),\n  157.49285698088025),\n ((array([1.00e-05, 9.00e+00, 2.31e+02]),\n   array([3.33336667e-01, 1.10000000e+02, 3.52000000e+02])),\n  157.61345120261785),\n ((array([  0.44444556, 124.        , 116.        ]),\n   array([  0.66666333, 246.        , 216.        ])),\n  157.74663229368798),\n ((array([1.00e-05, 9.00e+00, 2.31e+02]),\n   array([  0.44444556, 139.        , 323.        ])),\n  159.26079241294764),\n ((array([  0.88888111, 212.        ,  28.        ]),\n   array([  0.77777222, 302.        , 160.        ])),\n  159.76232346833217),\n ((array([  0.22222778,  52.        , 188.        ]),\n   array([  0.44444556, 139.        , 323.        ])),\n  160.60510577189007),\n ((array([  0.99999, 238.     ,   2.     ]),\n   array([  0.88888111, 374.        ,  88.        ])),\n  160.90991268408544),\n ((array([  0.66666333, 162.        ,  78.        ]),\n   array([  0.66666333, 246.        , 216.        ])),\n  161.55494421403512),\n ((array([  0.66666333, 162.        ,  78.        ]),\n   array([  0.77777222, 302.        , 160.        ])),\n  162.24672569885655),\n ((array([1.11118889e-01, 3.10000000e+01, 2.09000000e+02]),\n   array([3.33336667e-01, 1.10000000e+02, 3.52000000e+02])),\n  163.37074401495514),\n ((array([  0.22222778,  52.        , 188.        ]),\n   array([  0.55555444, 196.        , 266.        ])),\n  163.76812876747417),\n ((array([  0.44444556, 124.        , 116.        ]),\n   array([  0.55555444, 196.        , 266.        ])),\n  166.38509548634457),\n ((array([  0.33333667,  94.        , 146.        ]),\n   array([  0.66666333, 246.        , 216.        ])),\n  167.3439571660716),\n ((array([  0.99999, 238.     ,   2.     ]),\n   array([  0.77777222, 302.        , 160.        ])),\n  170.46993869888027),\n ((array([  0.88888111, 212.        ,  28.        ]),\n   array([  0.88888111, 374.        ,  88.        ])),\n  172.75416058665562),\n ((array([  0.77777222, 187.        ,  53.        ]),\n   array([  0.66666333, 246.        , 216.        ])),\n  173.34935823359717),\n ((array([  0.22222778,  52.        , 188.        ]),\n   array([3.33336667e-01, 1.10000000e+02, 3.52000000e+02])),\n  173.95401691251627),\n ((array([  0.55555444, 138.        , 102.        ]),\n   array([  0.55555444, 196.        , 266.        ])),\n  173.95401691251627),\n ((array([  0.55555444, 138.        , 102.        ]),\n   array([  0.77777222, 302.        , 160.        ])),\n  173.95401691251627),\n ((array([1.11118889e-01, 3.10000000e+01, 2.09000000e+02]),\n   array([  0.55555444, 196.        , 266.        ])),\n  174.56803831171388),\n ((array([  0.33333667,  94.        , 146.        ]),\n   array([  0.44444556, 139.        , 323.        ])),\n  182.6307750626931),\n ((array([  0.44444556, 124.        , 116.        ]),\n   array([  0.77777222, 302.        , 160.        ])),\n  183.35757415498276),\n ((array([1.00e-05, 9.00e+00, 2.31e+02]),\n   array([2.22227778e-01, 4.70000000e+01, 4.15000000e+02])),\n  187.88294228055935),\n ((array([1.00e-05, 9.00e+00, 2.31e+02]),\n   array([  0.55555444, 196.        , 266.        ])),\n  190.24720760105785),\n ((array([  0.77777222, 187.        ,  53.        ]),\n   array([  0.88888111, 374.        ,  88.        ])),\n  190.24720760105785),\n ((array([  0.66666333, 162.        ,  78.        ]),\n   array([  0.55555444, 196.        , 266.        ])),\n  191.049731745428),\n ((array([  0.88888111, 212.        ,  28.        ]),\n   array([  0.66666333, 246.        , 216.        ])),\n  191.049731745428),\n ((array([  0.22222778,  52.        , 188.        ]),\n   array([  0.66666333, 246.        , 216.        ])),\n  196.01020381602586),\n ((array([1.00e-05, 9.00e+00, 2.31e+02]),\n   array([1.11118889e-01, 2.60000000e+01, 4.36000000e+02])),\n  205.70367036103173),\n ((array([1.11118889e-01, 3.10000000e+01, 2.09000000e+02]),\n   array([2.22227778e-01, 4.70000000e+01, 4.15000000e+02])),\n  206.6204249342257),\n ((array([  0.33333667,  94.        , 146.        ]),\n   array([3.33336667e-01, 1.10000000e+02, 3.52000000e+02])),\n  206.6204249342257),\n ((array([  0.44444556, 124.        , 116.        ]),\n   array([  0.44444556, 139.        , 323.        ])),\n  207.54276667713572),\n ((array([  0.33333667,  94.        , 146.        ]),\n   array([  0.77777222, 302.        , 160.        ])),\n  208.47062143141417),\n ((array([  0.66666333, 162.        ,  78.        ]),\n   array([  0.88888111, 374.        ,  88.        ])),\n  212.235718011837),\n ((array([  0.99999, 238.     ,   2.     ]),\n   array([  0.99999, 450.     ,  12.     ])),\n  212.235718011837),\n ((array([  0.77777222, 187.        ,  53.        ]),\n   array([  0.55555444, 196.        , 266.        ])),\n  213.19005605327843),\n ((array([  0.99999, 238.     ,   2.     ]),\n   array([  0.66666333, 246.        , 216.        ])),\n  214.1494805036893),\n ((array([1.11118889e-01, 3.10000000e+01, 2.09000000e+02]),\n   array([  0.66666333, 246.        , 216.        ])),\n  215.11392330576837),\n ((array([  0.55555444, 138.        , 102.        ]),\n   array([  0.44444556, 139.        , 323.        ])),\n  221.00226243185838),\n ((array([1.00e-05, 9.00e+00, 2.31e+02]),\n   array([1.00e-05, 5.00e+00, 4.57e+02])),\n  226.03539545832197),\n ((array([1.11118889e-01, 3.10000000e+01, 2.09000000e+02]),\n   array([1.11118889e-01, 2.60000000e+01, 4.36000000e+02])),\n  227.05505940189926),\n ((array([  0.22222778,  52.        , 188.        ]),\n   array([2.22227778e-01, 4.70000000e+01, 4.15000000e+02])),\n  227.05505940189926),\n ((array([  0.44444556, 124.        , 116.        ]),\n   array([3.33336667e-01, 1.10000000e+02, 3.52000000e+02])),\n  236.4148895480147),\n ((array([  0.55555444, 138.        , 102.        ]),\n   array([  0.88888111, 374.        ,  88.        ])),\n  236.4148895480147),\n ((array([1.00e-05, 9.00e+00, 2.31e+02]),\n   array([  0.66666333, 246.        , 216.        ])),\n  237.47420912595962),\n ((array([  0.88888111, 212.        ,  28.        ]),\n   array([  0.55555444, 196.        , 266.        ])),\n  238.53720883753127),\n ((array([  0.88888111, 212.        ,  28.        ]),\n   array([  0.99999, 450.     ,  12.     ])),\n  238.53720883753127),\n ((array([  0.66666333, 162.        ,  78.        ]),\n   array([  0.44444556, 139.        , 323.        ])),\n  246.07722365143832),\n ((array([1.11118889e-01, 3.10000000e+01, 2.09000000e+02]),\n   array([1.00e-05, 5.00e+00, 4.57e+02])),\n  249.35917869611296),\n ((array([  0.22222778,  52.        , 188.        ]),\n   array([1.11118889e-01, 2.60000000e+01, 4.36000000e+02])),\n  249.35917869611296),\n ((array([  0.22222778,  52.        , 188.        ]),\n   array([  0.77777222, 302.        , 160.        ])),\n  251.56311335328954),\n ((array([  0.44444556, 124.        , 116.        ]),\n   array([  0.88888111, 374.        ,  88.        ])),\n  251.56311335328954),\n ((array([  0.55555444, 138.        , 102.        ]),\n   array([3.33336667e-01, 1.10000000e+02, 3.52000000e+02])),\n  251.56311335328954),\n ((array([  0.77777222, 187.        ,  53.        ]),\n   array([  0.99999, 450.     ,  12.     ])),\n  266.1766330841233),\n ((array([  0.99999, 238.     ,   2.     ]),\n   array([  0.55555444, 196.        , 266.        ])),\n  267.3200329193456),\n ((array([  0.22222778,  52.        , 188.        ]),\n   array([1.00e-05, 5.00e+00, 4.57e+02])),\n  273.0750812505601),\n ((array([  0.33333667,  94.        , 146.        ]),\n   array([2.22227778e-01, 4.70000000e+01, 4.15000000e+02])),\n  273.0750812505601),\n ((array([  0.77777222, 187.        ,  53.        ]),\n   array([  0.44444556, 139.        , 323.        ])),\n  274.2334771686345),\n ((array([1.11118889e-01, 3.10000000e+01, 2.09000000e+02]),\n   array([  0.77777222, 302.        , 160.        ])),\n  275.3942628305826),\n ((array([  0.66666333, 162.        ,  78.        ]),\n   array([3.33336667e-01, 1.10000000e+02, 3.52000000e+02])),\n  278.89065957826557),\n ((array([  0.33333667,  94.        , 146.        ]),\n   array([  0.88888111, 374.        ,  88.        ])),\n  285.9440504714165),\n ((array([  0.66666333, 162.        ,  78.        ]),\n   array([  0.99999, 450.     ,  12.     ])),\n  295.4657340538831),\n ((array([  0.33333667,  94.        , 146.        ]),\n   array([1.11118889e-01, 2.60000000e+01, 4.36000000e+02])),\n  297.8657415682441),\n ((array([1.00e-05, 9.00e+00, 2.31e+02]),\n   array([  0.77777222, 302.        , 160.        ])),\n  301.4796842243271),\n ((array([  0.88888111, 212.        ,  28.        ]),\n   array([  0.44444556, 139.        , 323.        ])),\n  303.8980092070364),\n ((array([  0.44444556, 124.        , 116.        ]),\n   array([2.22227778e-01, 4.70000000e+01, 4.15000000e+02])),\n  308.75556675143525),\n ((array([  0.77777222, 187.        ,  53.        ]),\n   array([3.33336667e-01, 1.10000000e+02, 3.52000000e+02])),\n  308.75556675143525),\n ((array([  0.33333667,  94.        , 146.        ]),\n   array([1.00e-05, 5.00e+00, 4.57e+02])),\n  323.484157262763),\n ((array([  0.55555444, 138.        , 102.        ]),\n   array([  0.99999, 450.     ,  12.     ])),\n  324.7214190656354),\n ((array([  0.55555444, 138.        , 102.        ]),\n   array([2.22227778e-01, 4.70000000e+01, 4.15000000e+02])),\n  325.96012026013244),\n ((array([  0.44444556, 124.        , 116.        ]),\n   array([1.11118889e-01, 2.60000000e+01, 4.36000000e+02])),\n  334.6699867033194),\n ((array([  0.99999, 238.     ,   2.     ]),\n   array([  0.44444556, 139.        , 323.        ])),\n  335.91963324581076),\n ((array([  0.22222778,  52.        , 188.        ]),\n   array([  0.88888111, 374.        ,  88.        ])),\n  337.1705799739948),\n ((array([  0.88888111, 212.        ,  28.        ]),\n   array([3.33336667e-01, 1.10000000e+02, 3.52000000e+02])),\n  339.67631651323586),\n ((array([  0.44444556, 124.        , 116.        ]),\n   array([  0.99999, 450.     ,  12.     ])),\n  342.18708333307967),\n ((array([  0.55555444, 138.        , 102.        ]),\n   array([1.11118889e-01, 2.60000000e+01, 4.36000000e+02])),\n  352.27829907617075),\n ((array([  0.66666333, 162.        ,  78.        ]),\n   array([2.22227778e-01, 4.70000000e+01, 4.15000000e+02])),\n  356.0814513562873),\n ((array([  0.44444556, 124.        , 116.        ]),\n   array([1.00e-05, 5.00e+00, 4.57e+02])),\n  361.1675511448945),\n ((array([1.11118889e-01, 3.10000000e+01, 2.09000000e+02]),\n   array([  0.88888111, 374.        ,  88.        ])),\n  363.7169228947149),\n ((array([  0.99999, 238.     ,   2.     ]),\n   array([3.33336667e-01, 1.10000000e+02, 3.52000000e+02])),\n  372.67143705950957),\n ((array([  0.55555444, 138.        , 102.        ]),\n   array([1.00e-05, 5.00e+00, 4.57e+02])),\n  379.09629383574827),\n ((array([  0.33333667,  94.        , 146.        ]),\n   array([  0.99999, 450.     ,  12.     ])),\n  380.38401648860065),\n ((array([  0.66666333, 162.        ,  78.        ]),\n   array([1.11118889e-01, 2.60000000e+01, 4.36000000e+02])),\n  382.96213912082743),\n ((array([  0.77777222, 187.        ,  53.        ]),\n   array([2.22227778e-01, 4.70000000e+01, 4.15000000e+02])),\n  388.1288445864337),\n ((array([1.00e-05, 9.00e+00, 2.31e+02]),\n   array([  0.88888111, 374.        ,  88.        ])),\n  392.01275489453144),\n ((array([  0.66666333, 162.        ,  78.        ]),\n   array([1.00e-05, 5.00e+00, 4.57e+02])),\n  410.23164188053556),\n ((array([  0.77777222, 187.        ,  53.        ]),\n   array([1.11118889e-01, 2.60000000e+01, 4.36000000e+02])),\n  415.46359647988413),\n ((array([  0.88888111, 212.        ,  28.        ]),\n   array([2.22227778e-01, 4.70000000e+01, 4.15000000e+02])),\n  420.70654855849347),\n ((array([  0.22222778,  52.        , 188.        ]),\n   array([  0.99999, 450.     ,  12.     ])),\n  435.1781244502072),\n ((array([  0.77777222, 187.        ,  53.        ]),\n   array([1.00e-05, 5.00e+00, 4.57e+02])),\n  443.1026968999399),\n ((array([  0.88888111, 212.        ,  28.        ]),\n   array([1.11118889e-01, 2.60000000e+01, 4.36000000e+02])),\n  448.39714539680114),\n ((array([  0.99999, 238.     ,   2.     ]),\n   array([2.22227778e-01, 4.70000000e+01, 4.15000000e+02])),\n  455.02747169813824),\n ((array([1.11118889e-01, 3.10000000e+01, 2.09000000e+02]),\n   array([  0.99999, 450.     ,  12.     ])),\n  463.0010799123475),\n ((array([  0.88888111, 212.        ,  28.        ]),\n   array([1.00e-05, 5.00e+00, 4.57e+02])),\n  476.3297177376192),\n ((array([  0.99999, 238.     ,   2.     ]),\n   array([1.11118889e-01, 2.60000000e+01, 4.36000000e+02])),\n  483.01138702933287),\n ((array([1.00e-05, 9.00e+00, 2.31e+02]),\n   array([  0.99999, 450.     ,  12.     ])),\n  492.38399649054395),\n ((array([  0.99999, 238.     ,   2.     ]),\n   array([1.00e-05, 5.00e+00, 4.57e+02])),\n  511.18881051916617)]"
     },
     "execution_count": 47,
     "metadata": {},
     "output_type": "execute_result"
    }
   ],
   "source": [
    "ths = np.linspace(1e-5, 1 - 1e-5, 10)\n",
    "\n",
    "roc_ca = roc_curve(y_test_cauc, model.predict_proba(X_test_cauc), ths)\n",
    "roc_aa = roc_curve(y_test_afro, model.predict_proba(X_test_afro), ths)\n",
    "closest_points(roc_ca, roc_aa)"
   ],
   "metadata": {
    "collapsed": false,
    "pycharm": {
     "name": "#%%\n"
    }
   }
  },
  {
   "cell_type": "markdown",
   "source": [
    "A threshold of 0.666 seems to give the best results for a reasonable split between the two metrics TPR and FPR"
   ],
   "metadata": {
    "collapsed": false,
    "pycharm": {
     "name": "#%% md\n"
    }
   }
  },
  {
   "cell_type": "markdown",
   "source": [
    "> ```\n",
    "> * The second way is by visualizing the ROC curves. Let's do it with Bokeh:\n",
    ">     * Get the two ROC curves with the function `roc_curve` above and call them `roc_aa` (for African-Americans) and `roc_ca` (for Caucasian).\n",
    ">     * Create a `DataFrame` called `df_roc` with columns `FPR_AA`, `TPR_AA`, `FPR_CA`, `TPR_CA`, with the FPR and TPR values for both groups. Convert the dataframe into a Bokeh `ColumnDataSource`.\n",
    ">     * Create an empty bokeh figure and add labels and title (we will have FPR on the x-axis and TPR on the y-axis)\n",
    ">     * Add two `p.line()` by passing the values from your dataframe for one group and then the other. You should now see the plot with both lines. Use colors and other parameters to customize it as you like\n",
    ">     * Finally, we need to add one last thing: interactive points that will show the thresholds.\n",
    "        > The easiest way I found to do this was to create a second `DataFrame` with columns\n",
    "        >  `x`, `y`, `th` where x is the combined list of `FPR_AA` and `FPR_CA`, y is the combined list of `TPR_AA` and `TPR_CA`, and th is the threshold list repeated twice. Convert this\n",
    "        >  dataframe into a Bokeh `ColumnDataSource` as usual and add the points to the plot with\n",
    "> ```python\n",
    "> cr = p.circle('x','y',source=..., fill_color=..., hover_fill_color=...)\n",
    "> ````\n",
    "> you can make them interactive by adding the following line of code:\n",
    "> ```python\n",
    ">    p.add_tools(HoverTool(tooltips=[('Threshold', '@th')], renderers=[cr]))\n",
    "> ```\n",
    "> * Use the two methods above to find a threshold for each group. What threshold did you find?\n",
    "> * Debias the output by computing $\\hat{y}$ for the two groups with the thresholds you found. Now plot the confusion matrices for African-Americans and Caucasian again. What do you observe?\n",
    "> * We ended the video by saying that there might be still a problem with the methods we have used to de-bias data. What do you think the problem is? **Hint**: it is related to the [following article](https://en.wikipedia.org/wiki/Protected_group). Skim through it to get an idea!"
   ],
   "metadata": {
    "collapsed": false
   }
  },
  {
   "cell_type": "code",
   "execution_count": 48,
   "outputs": [],
   "source": [
    "source = ColumnDataSource(pd.DataFrame(np.hstack([roc_aa, roc_ca[:,1:]]), columns=['th', 'FPR_AA', 'TPR_AA', 'FPR_CA', 'TPR_CA']))"
   ],
   "metadata": {
    "collapsed": false,
    "pycharm": {
     "name": "#%%\n"
    }
   }
  },
  {
   "cell_type": "code",
   "execution_count": 49,
   "outputs": [
    {
     "data": {
      "text/html": "\n    <div class=\"bk-root\">\n        <a href=\"https://bokeh.org\" target=\"_blank\" class=\"bk-logo bk-logo-small bk-logo-notebook\"></a>\n        <span id=\"1394\">Loading BokehJS ...</span>\n    </div>"
     },
     "metadata": {},
     "output_type": "display_data"
    },
    {
     "data": {
      "application/javascript": "\n(function(root) {\n  function now() {\n    return new Date();\n  }\n\n  const force = true;\n\n  if (typeof root._bokeh_onload_callbacks === \"undefined\" || force === true) {\n    root._bokeh_onload_callbacks = [];\n    root._bokeh_is_loading = undefined;\n  }\n\n  const JS_MIME_TYPE = 'application/javascript';\n  const HTML_MIME_TYPE = 'text/html';\n  const EXEC_MIME_TYPE = 'application/vnd.bokehjs_exec.v0+json';\n  const CLASS_NAME = 'output_bokeh rendered_html';\n\n  /**\n   * Render data to the DOM node\n   */\n  function render(props, node) {\n    const script = document.createElement(\"script\");\n    node.appendChild(script);\n  }\n\n  /**\n   * Handle when an output is cleared or removed\n   */\n  function handleClearOutput(event, handle) {\n    const cell = handle.cell;\n\n    const id = cell.output_area._bokeh_element_id;\n    const server_id = cell.output_area._bokeh_server_id;\n    // Clean up Bokeh references\n    if (id != null && id in Bokeh.index) {\n      Bokeh.index[id].model.document.clear();\n      delete Bokeh.index[id];\n    }\n\n    if (server_id !== undefined) {\n      // Clean up Bokeh references\n      const cmd_clean = \"from bokeh.io.state import curstate; print(curstate().uuid_to_server['\" + server_id + \"'].get_sessions()[0].document.roots[0]._id)\";\n      cell.notebook.kernel.execute(cmd_clean, {\n        iopub: {\n          output: function(msg) {\n            const id = msg.content.text.trim();\n            if (id in Bokeh.index) {\n              Bokeh.index[id].model.document.clear();\n              delete Bokeh.index[id];\n            }\n          }\n        }\n      });\n      // Destroy server and session\n      const cmd_destroy = \"import bokeh.io.notebook as ion; ion.destroy_server('\" + server_id + \"')\";\n      cell.notebook.kernel.execute(cmd_destroy);\n    }\n  }\n\n  /**\n   * Handle when a new output is added\n   */\n  function handleAddOutput(event, handle) {\n    const output_area = handle.output_area;\n    const output = handle.output;\n\n    // limit handleAddOutput to display_data with EXEC_MIME_TYPE content only\n    if ((output.output_type != \"display_data\") || (!Object.prototype.hasOwnProperty.call(output.data, EXEC_MIME_TYPE))) {\n      return\n    }\n\n    const toinsert = output_area.element.find(\".\" + CLASS_NAME.split(' ')[0]);\n\n    if (output.metadata[EXEC_MIME_TYPE][\"id\"] !== undefined) {\n      toinsert[toinsert.length - 1].firstChild.textContent = output.data[JS_MIME_TYPE];\n      // store reference to embed id on output_area\n      output_area._bokeh_element_id = output.metadata[EXEC_MIME_TYPE][\"id\"];\n    }\n    if (output.metadata[EXEC_MIME_TYPE][\"server_id\"] !== undefined) {\n      const bk_div = document.createElement(\"div\");\n      bk_div.innerHTML = output.data[HTML_MIME_TYPE];\n      const script_attrs = bk_div.children[0].attributes;\n      for (let i = 0; i < script_attrs.length; i++) {\n        toinsert[toinsert.length - 1].firstChild.setAttribute(script_attrs[i].name, script_attrs[i].value);\n        toinsert[toinsert.length - 1].firstChild.textContent = bk_div.children[0].textContent\n      }\n      // store reference to server id on output_area\n      output_area._bokeh_server_id = output.metadata[EXEC_MIME_TYPE][\"server_id\"];\n    }\n  }\n\n  function register_renderer(events, OutputArea) {\n\n    function append_mime(data, metadata, element) {\n      // create a DOM node to render to\n      const toinsert = this.create_output_subarea(\n        metadata,\n        CLASS_NAME,\n        EXEC_MIME_TYPE\n      );\n      this.keyboard_manager.register_events(toinsert);\n      // Render to node\n      const props = {data: data, metadata: metadata[EXEC_MIME_TYPE]};\n      render(props, toinsert[toinsert.length - 1]);\n      element.append(toinsert);\n      return toinsert\n    }\n\n    /* Handle when an output is cleared or removed */\n    events.on('clear_output.CodeCell', handleClearOutput);\n    events.on('delete.Cell', handleClearOutput);\n\n    /* Handle when a new output is added */\n    events.on('output_added.OutputArea', handleAddOutput);\n\n    /**\n     * Register the mime type and append_mime function with output_area\n     */\n    OutputArea.prototype.register_mime_type(EXEC_MIME_TYPE, append_mime, {\n      /* Is output safe? */\n      safe: true,\n      /* Index of renderer in `output_area.display_order` */\n      index: 0\n    });\n  }\n\n  // register the mime type if in Jupyter Notebook environment and previously unregistered\n  if (root.Jupyter !== undefined) {\n    const events = require('base/js/events');\n    const OutputArea = require('notebook/js/outputarea').OutputArea;\n\n    if (OutputArea.prototype.mime_types().indexOf(EXEC_MIME_TYPE) == -1) {\n      register_renderer(events, OutputArea);\n    }\n  }\n\n  \n  if (typeof (root._bokeh_timeout) === \"undefined\" || force === true) {\n    root._bokeh_timeout = Date.now() + 5000;\n    root._bokeh_failed_load = false;\n  }\n\n  const NB_LOAD_WARNING = {'data': {'text/html':\n     \"<div style='background-color: #fdd'>\\n\"+\n     \"<p>\\n\"+\n     \"BokehJS does not appear to have successfully loaded. If loading BokehJS from CDN, this \\n\"+\n     \"may be due to a slow or bad network connection. Possible fixes:\\n\"+\n     \"</p>\\n\"+\n     \"<ul>\\n\"+\n     \"<li>re-rerun `output_notebook()` to attempt to load from CDN again, or</li>\\n\"+\n     \"<li>use INLINE resources instead, as so:</li>\\n\"+\n     \"</ul>\\n\"+\n     \"<code>\\n\"+\n     \"from bokeh.resources import INLINE\\n\"+\n     \"output_notebook(resources=INLINE)\\n\"+\n     \"</code>\\n\"+\n     \"</div>\"}};\n\n  function display_loaded() {\n    const el = document.getElementById(\"1394\");\n    if (el != null) {\n      el.textContent = \"BokehJS is loading...\";\n    }\n    if (root.Bokeh !== undefined) {\n      if (el != null) {\n        el.textContent = \"BokehJS \" + root.Bokeh.version + \" successfully loaded.\";\n      }\n    } else if (Date.now() < root._bokeh_timeout) {\n      setTimeout(display_loaded, 100)\n    }\n  }\n\n\n  function run_callbacks() {\n    try {\n      root._bokeh_onload_callbacks.forEach(function(callback) {\n        if (callback != null)\n          callback();\n      });\n    } finally {\n      delete root._bokeh_onload_callbacks\n    }\n    console.debug(\"Bokeh: all callbacks have finished\");\n  }\n\n  function load_libs(css_urls, js_urls, callback) {\n    if (css_urls == null) css_urls = [];\n    if (js_urls == null) js_urls = [];\n\n    root._bokeh_onload_callbacks.push(callback);\n    if (root._bokeh_is_loading > 0) {\n      console.debug(\"Bokeh: BokehJS is being loaded, scheduling callback at\", now());\n      return null;\n    }\n    if (js_urls == null || js_urls.length === 0) {\n      run_callbacks();\n      return null;\n    }\n    console.debug(\"Bokeh: BokehJS not loaded, scheduling load and callback at\", now());\n    root._bokeh_is_loading = css_urls.length + js_urls.length;\n\n    function on_load() {\n      root._bokeh_is_loading--;\n      if (root._bokeh_is_loading === 0) {\n        console.debug(\"Bokeh: all BokehJS libraries/stylesheets loaded\");\n        run_callbacks()\n      }\n    }\n\n    function on_error(url) {\n      console.error(\"failed to load \" + url);\n    }\n\n    for (let i = 0; i < css_urls.length; i++) {\n      const url = css_urls[i];\n      const element = document.createElement(\"link\");\n      element.onload = on_load;\n      element.onerror = on_error.bind(null, url);\n      element.rel = \"stylesheet\";\n      element.type = \"text/css\";\n      element.href = url;\n      console.debug(\"Bokeh: injecting link tag for BokehJS stylesheet: \", url);\n      document.body.appendChild(element);\n    }\n\n    for (let i = 0; i < js_urls.length; i++) {\n      const url = js_urls[i];\n      const element = document.createElement('script');\n      element.onload = on_load;\n      element.onerror = on_error.bind(null, url);\n      element.async = false;\n      element.src = url;\n      console.debug(\"Bokeh: injecting script tag for BokehJS library: \", url);\n      document.head.appendChild(element);\n    }\n  };\n\n  function inject_raw_css(css) {\n    const element = document.createElement(\"style\");\n    element.appendChild(document.createTextNode(css));\n    document.body.appendChild(element);\n  }\n\n  \n  const js_urls = [\"https://cdn.bokeh.org/bokeh/release/bokeh-2.4.2.min.js\", \"https://cdn.bokeh.org/bokeh/release/bokeh-gl-2.4.2.min.js\", \"https://cdn.bokeh.org/bokeh/release/bokeh-widgets-2.4.2.min.js\", \"https://cdn.bokeh.org/bokeh/release/bokeh-tables-2.4.2.min.js\", \"https://cdn.bokeh.org/bokeh/release/bokeh-mathjax-2.4.2.min.js\"];\n  const css_urls = [];\n  \n\n  const inline_js = [\n    function(Bokeh) {\n      Bokeh.set_log_level(\"info\");\n    },\n    function(Bokeh) {\n    \n    \n    }\n  ];\n\n  function run_inline_js() {\n    \n    if (root.Bokeh !== undefined || force === true) {\n      \n    for (let i = 0; i < inline_js.length; i++) {\n      inline_js[i].call(root, root.Bokeh);\n    }\n    if (force === true) {\n        display_loaded();\n      }} else if (Date.now() < root._bokeh_timeout) {\n      setTimeout(run_inline_js, 100);\n    } else if (!root._bokeh_failed_load) {\n      console.log(\"Bokeh: BokehJS failed to load within specified timeout.\");\n      root._bokeh_failed_load = true;\n    } else if (force !== true) {\n      const cell = $(document.getElementById(\"1394\")).parents('.cell').data().cell;\n      cell.output_area.append_execute_result(NB_LOAD_WARNING)\n    }\n\n  }\n\n  if (root._bokeh_is_loading === 0) {\n    console.debug(\"Bokeh: BokehJS loaded, going straight to plotting\");\n    run_inline_js();\n  } else {\n    load_libs(css_urls, js_urls, function() {\n      console.debug(\"Bokeh: BokehJS plotting callback run at\", now());\n      run_inline_js();\n    });\n  }\n}(window));",
      "application/vnd.bokehjs_load.v0+json": "\n(function(root) {\n  function now() {\n    return new Date();\n  }\n\n  const force = true;\n\n  if (typeof root._bokeh_onload_callbacks === \"undefined\" || force === true) {\n    root._bokeh_onload_callbacks = [];\n    root._bokeh_is_loading = undefined;\n  }\n\n  \n\n  \n  if (typeof (root._bokeh_timeout) === \"undefined\" || force === true) {\n    root._bokeh_timeout = Date.now() + 5000;\n    root._bokeh_failed_load = false;\n  }\n\n  const NB_LOAD_WARNING = {'data': {'text/html':\n     \"<div style='background-color: #fdd'>\\n\"+\n     \"<p>\\n\"+\n     \"BokehJS does not appear to have successfully loaded. If loading BokehJS from CDN, this \\n\"+\n     \"may be due to a slow or bad network connection. Possible fixes:\\n\"+\n     \"</p>\\n\"+\n     \"<ul>\\n\"+\n     \"<li>re-rerun `output_notebook()` to attempt to load from CDN again, or</li>\\n\"+\n     \"<li>use INLINE resources instead, as so:</li>\\n\"+\n     \"</ul>\\n\"+\n     \"<code>\\n\"+\n     \"from bokeh.resources import INLINE\\n\"+\n     \"output_notebook(resources=INLINE)\\n\"+\n     \"</code>\\n\"+\n     \"</div>\"}};\n\n  function display_loaded() {\n    const el = document.getElementById(\"1394\");\n    if (el != null) {\n      el.textContent = \"BokehJS is loading...\";\n    }\n    if (root.Bokeh !== undefined) {\n      if (el != null) {\n        el.textContent = \"BokehJS \" + root.Bokeh.version + \" successfully loaded.\";\n      }\n    } else if (Date.now() < root._bokeh_timeout) {\n      setTimeout(display_loaded, 100)\n    }\n  }\n\n\n  function run_callbacks() {\n    try {\n      root._bokeh_onload_callbacks.forEach(function(callback) {\n        if (callback != null)\n          callback();\n      });\n    } finally {\n      delete root._bokeh_onload_callbacks\n    }\n    console.debug(\"Bokeh: all callbacks have finished\");\n  }\n\n  function load_libs(css_urls, js_urls, callback) {\n    if (css_urls == null) css_urls = [];\n    if (js_urls == null) js_urls = [];\n\n    root._bokeh_onload_callbacks.push(callback);\n    if (root._bokeh_is_loading > 0) {\n      console.debug(\"Bokeh: BokehJS is being loaded, scheduling callback at\", now());\n      return null;\n    }\n    if (js_urls == null || js_urls.length === 0) {\n      run_callbacks();\n      return null;\n    }\n    console.debug(\"Bokeh: BokehJS not loaded, scheduling load and callback at\", now());\n    root._bokeh_is_loading = css_urls.length + js_urls.length;\n\n    function on_load() {\n      root._bokeh_is_loading--;\n      if (root._bokeh_is_loading === 0) {\n        console.debug(\"Bokeh: all BokehJS libraries/stylesheets loaded\");\n        run_callbacks()\n      }\n    }\n\n    function on_error(url) {\n      console.error(\"failed to load \" + url);\n    }\n\n    for (let i = 0; i < css_urls.length; i++) {\n      const url = css_urls[i];\n      const element = document.createElement(\"link\");\n      element.onload = on_load;\n      element.onerror = on_error.bind(null, url);\n      element.rel = \"stylesheet\";\n      element.type = \"text/css\";\n      element.href = url;\n      console.debug(\"Bokeh: injecting link tag for BokehJS stylesheet: \", url);\n      document.body.appendChild(element);\n    }\n\n    for (let i = 0; i < js_urls.length; i++) {\n      const url = js_urls[i];\n      const element = document.createElement('script');\n      element.onload = on_load;\n      element.onerror = on_error.bind(null, url);\n      element.async = false;\n      element.src = url;\n      console.debug(\"Bokeh: injecting script tag for BokehJS library: \", url);\n      document.head.appendChild(element);\n    }\n  };\n\n  function inject_raw_css(css) {\n    const element = document.createElement(\"style\");\n    element.appendChild(document.createTextNode(css));\n    document.body.appendChild(element);\n  }\n\n  \n  const js_urls = [\"https://cdn.bokeh.org/bokeh/release/bokeh-2.4.2.min.js\", \"https://cdn.bokeh.org/bokeh/release/bokeh-gl-2.4.2.min.js\", \"https://cdn.bokeh.org/bokeh/release/bokeh-widgets-2.4.2.min.js\", \"https://cdn.bokeh.org/bokeh/release/bokeh-tables-2.4.2.min.js\", \"https://cdn.bokeh.org/bokeh/release/bokeh-mathjax-2.4.2.min.js\"];\n  const css_urls = [];\n  \n\n  const inline_js = [\n    function(Bokeh) {\n      Bokeh.set_log_level(\"info\");\n    },\n    function(Bokeh) {\n    \n    \n    }\n  ];\n\n  function run_inline_js() {\n    \n    if (root.Bokeh !== undefined || force === true) {\n      \n    for (let i = 0; i < inline_js.length; i++) {\n      inline_js[i].call(root, root.Bokeh);\n    }\n    if (force === true) {\n        display_loaded();\n      }} else if (Date.now() < root._bokeh_timeout) {\n      setTimeout(run_inline_js, 100);\n    } else if (!root._bokeh_failed_load) {\n      console.log(\"Bokeh: BokehJS failed to load within specified timeout.\");\n      root._bokeh_failed_load = true;\n    } else if (force !== true) {\n      const cell = $(document.getElementById(\"1394\")).parents('.cell').data().cell;\n      cell.output_area.append_execute_result(NB_LOAD_WARNING)\n    }\n\n  }\n\n  if (root._bokeh_is_loading === 0) {\n    console.debug(\"Bokeh: BokehJS loaded, going straight to plotting\");\n    run_inline_js();\n  } else {\n    load_libs(css_urls, js_urls, function() {\n      console.debug(\"Bokeh: BokehJS plotting callback run at\", now());\n      run_inline_js();\n    });\n  }\n}(window));"
     },
     "metadata": {},
     "output_type": "display_data"
    },
    {
     "data": {
      "text/html": "\n\n\n\n\n\n  <div class=\"bk-root\" id=\"0bae2600-faed-4f48-b383-41c6d9c1ae5a\" data-root-id=\"1292\"></div>\n"
     },
     "metadata": {},
     "output_type": "display_data"
    },
    {
     "data": {
      "application/javascript": "(function(root) {\n  function embed_document(root) {\n    \n  const docs_json = {\"3b2f5dc0-cf54-4010-970a-715f5b437c99\":{\"defs\":[],\"roots\":{\"references\":[{\"attributes\":{\"below\":[{\"id\":\"1303\"}],\"center\":[{\"id\":\"1306\"},{\"id\":\"1310\"},{\"id\":\"1343\"}],\"left\":[{\"id\":\"1307\"}],\"renderers\":[{\"id\":\"1331\"},{\"id\":\"1349\"},{\"id\":\"1366\"},{\"id\":\"1382\"}],\"title\":{\"id\":\"1293\"},\"toolbar\":{\"id\":\"1319\"},\"x_range\":{\"id\":\"1295\"},\"x_scale\":{\"id\":\"1299\"},\"y_range\":{\"id\":\"1297\"},\"y_scale\":{\"id\":\"1301\"}},\"id\":\"1292\",\"subtype\":\"Figure\",\"type\":\"Plot\"},{\"attributes\":{\"bottom_units\":\"screen\",\"coordinates\":null,\"fill_alpha\":0.5,\"fill_color\":\"lightgrey\",\"group\":null,\"left_units\":\"screen\",\"level\":\"overlay\",\"line_alpha\":1.0,\"line_color\":\"black\",\"line_dash\":[4,4],\"line_width\":2,\"right_units\":\"screen\",\"syncable\":false,\"top_units\":\"screen\"},\"id\":\"1317\",\"type\":\"BoxAnnotation\"},{\"attributes\":{\"axis\":{\"id\":\"1307\"},\"coordinates\":null,\"dimension\":1,\"group\":null,\"ticker\":null},\"id\":\"1310\",\"type\":\"Grid\"},{\"attributes\":{\"coordinates\":null,\"data_source\":{\"id\":\"1291\"},\"glyph\":{\"id\":\"1363\"},\"group\":null,\"hover_glyph\":null,\"muted_glyph\":{\"id\":\"1365\"},\"nonselection_glyph\":{\"id\":\"1364\"},\"view\":{\"id\":\"1367\"}},\"id\":\"1366\",\"type\":\"GlyphRenderer\"},{\"attributes\":{},\"id\":\"1295\",\"type\":\"DataRange1d\"},{\"attributes\":{\"coordinates\":null,\"group\":null,\"items\":[{\"id\":\"1344\"},{\"id\":\"1361\"}]},\"id\":\"1343\",\"type\":\"Legend\"},{\"attributes\":{\"line_alpha\":0.2,\"line_color\":\"blue\",\"line_width\":4,\"x\":{\"field\":\"FPR_CA\"},\"y\":{\"field\":\"TPR_CA\"}},\"id\":\"1348\",\"type\":\"Line\"},{\"attributes\":{},\"id\":\"1335\",\"type\":\"BasicTickFormatter\"},{\"attributes\":{\"source\":{\"id\":\"1291\"}},\"id\":\"1383\",\"type\":\"CDSView\"},{\"attributes\":{\"coordinates\":null,\"data_source\":{\"id\":\"1291\"},\"glyph\":{\"id\":\"1379\"},\"group\":null,\"hover_glyph\":null,\"muted_glyph\":{\"id\":\"1381\"},\"nonselection_glyph\":{\"id\":\"1380\"},\"view\":{\"id\":\"1383\"}},\"id\":\"1382\",\"type\":\"GlyphRenderer\"},{\"attributes\":{},\"id\":\"1314\",\"type\":\"SaveTool\"},{\"attributes\":{},\"id\":\"1315\",\"type\":\"ResetTool\"},{\"attributes\":{\"tools\":[{\"id\":\"1311\"},{\"id\":\"1312\"},{\"id\":\"1313\"},{\"id\":\"1314\"},{\"id\":\"1315\"},{\"id\":\"1316\"},{\"id\":\"1318\"}]},\"id\":\"1319\",\"type\":\"Toolbar\"},{\"attributes\":{\"line_alpha\":0.1,\"line_color\":\"blue\",\"line_width\":4,\"x\":{\"field\":\"FPR_CA\"},\"y\":{\"field\":\"TPR_CA\"}},\"id\":\"1347\",\"type\":\"Line\"},{\"attributes\":{\"axis\":{\"id\":\"1303\"},\"coordinates\":null,\"group\":null,\"ticker\":null},\"id\":\"1306\",\"type\":\"Grid\"},{\"attributes\":{},\"id\":\"1301\",\"type\":\"LinearScale\"},{\"attributes\":{},\"id\":\"1336\",\"type\":\"AllLabels\"},{\"attributes\":{\"coordinates\":null,\"group\":null,\"text\":\"ROC Curves for Caucasian and African-American groups\"},\"id\":\"1293\",\"type\":\"Title\"},{\"attributes\":{\"coordinates\":null,\"data_source\":{\"id\":\"1291\"},\"glyph\":{\"id\":\"1346\"},\"group\":null,\"hover_glyph\":null,\"muted_glyph\":{\"id\":\"1348\"},\"nonselection_glyph\":{\"id\":\"1347\"},\"view\":{\"id\":\"1350\"}},\"id\":\"1349\",\"type\":\"GlyphRenderer\"},{\"attributes\":{\"fill_alpha\":{\"value\":0.2},\"fill_color\":{\"value\":\"blue\"},\"hatch_alpha\":{\"value\":0.2},\"hatch_color\":{\"value\":\"blue\"},\"line_alpha\":{\"value\":0.2},\"line_color\":{\"value\":\"blue\"},\"size\":{\"value\":10},\"x\":{\"field\":\"FPR_CA\"},\"y\":{\"field\":\"TPR_CA\"}},\"id\":\"1381\",\"type\":\"Circle\"},{\"attributes\":{},\"id\":\"1339\",\"type\":\"AllLabels\"},{\"attributes\":{\"data\":{\"FPR_AA\":{\"__ndarray__\":\"AAAAAAAAFEAAAAAAAAA6QAAAAAAAgEdAAAAAAACAW0AAAAAAAGBhQAAAAAAAgGhAAAAAAADAbkAAAAAAAOByQAAAAAAAYHdAAAAAAAAgfEA=\",\"dtype\":\"float64\",\"order\":\"little\",\"shape\":[10]},\"FPR_CA\":{\"__ndarray__\":\"AAAAAAAAIkAAAAAAAAA/QAAAAAAAAEpAAAAAAACAV0AAAAAAAABfQAAAAAAAQGFAAAAAAABAZEAAAAAAAGBnQAAAAAAAgGpAAAAAAADAbUA=\",\"dtype\":\"float64\",\"order\":\"little\",\"shape\":[10]},\"TPR_AA\":{\"__ndarray__\":\"AAAAAACQfEAAAAAAAEB7QAAAAAAA8HlAAAAAAAAAdkAAAAAAADB0QAAAAAAAoHBAAAAAAAAAa0AAAAAAAABkQAAAAAAAAFZAAAAAAAAAKEA=\",\"dtype\":\"float64\",\"order\":\"little\",\"shape\":[10]},\"TPR_CA\":{\"__ndarray__\":\"AAAAAADgbEAAAAAAACBqQAAAAAAAgGdAAAAAAABAYkAAAAAAAABdQAAAAAAAgFlAAAAAAACAU0AAAAAAAIBKQAAAAAAAADxAAAAAAAAAAEA=\",\"dtype\":\"float64\",\"order\":\"little\",\"shape\":[10]},\"index\":[0,1,2,3,4,5,6,7,8,9],\"th\":{\"__ndarray__\":\"8WjjiLX45D754b6ZSXK8P2y+6Lb1ccw/7QV5UGNV1T+lrH3Fy3HcP64pQR0ax+E/CX3DV05V5T9l0EWSguPoP8EjyMy2cew/HXdKB+v/7z8=\",\"dtype\":\"float64\",\"order\":\"little\",\"shape\":[10]}},\"selected\":{\"id\":\"1341\"},\"selection_policy\":{\"id\":\"1340\"}},\"id\":\"1291\",\"type\":\"ColumnDataSource\"},{\"attributes\":{\"overlay\":{\"id\":\"1317\"}},\"id\":\"1313\",\"type\":\"BoxZoomTool\"},{\"attributes\":{\"fill_color\":{\"value\":\"red\"},\"hatch_color\":{\"value\":\"red\"},\"line_color\":{\"value\":\"red\"},\"size\":{\"value\":10},\"x\":{\"field\":\"FPR_AA\"},\"y\":{\"field\":\"TPR_AA\"}},\"id\":\"1363\",\"type\":\"Circle\"},{\"attributes\":{\"fill_alpha\":{\"value\":0.1},\"fill_color\":{\"value\":\"blue\"},\"hatch_alpha\":{\"value\":0.1},\"hatch_color\":{\"value\":\"blue\"},\"line_alpha\":{\"value\":0.1},\"line_color\":{\"value\":\"blue\"},\"size\":{\"value\":10},\"x\":{\"field\":\"FPR_CA\"},\"y\":{\"field\":\"TPR_CA\"}},\"id\":\"1380\",\"type\":\"Circle\"},{\"attributes\":{},\"id\":\"1311\",\"type\":\"PanTool\"},{\"attributes\":{},\"id\":\"1299\",\"type\":\"LinearScale\"},{\"attributes\":{\"line_alpha\":0.1,\"line_color\":\"red\",\"line_width\":4,\"x\":{\"field\":\"FPR_AA\"},\"y\":{\"field\":\"TPR_AA\"}},\"id\":\"1329\",\"type\":\"Line\"},{\"attributes\":{},\"id\":\"1338\",\"type\":\"BasicTickFormatter\"},{\"attributes\":{},\"id\":\"1341\",\"type\":\"Selection\"},{\"attributes\":{},\"id\":\"1308\",\"type\":\"BasicTicker\"},{\"attributes\":{\"source\":{\"id\":\"1291\"}},\"id\":\"1332\",\"type\":\"CDSView\"},{\"attributes\":{\"coordinates\":null,\"data_source\":{\"id\":\"1291\"},\"glyph\":{\"id\":\"1328\"},\"group\":null,\"hover_glyph\":null,\"muted_glyph\":{\"id\":\"1330\"},\"nonselection_glyph\":{\"id\":\"1329\"},\"view\":{\"id\":\"1332\"}},\"id\":\"1331\",\"type\":\"GlyphRenderer\"},{\"attributes\":{\"fill_alpha\":{\"value\":0.1},\"fill_color\":{\"value\":\"red\"},\"hatch_alpha\":{\"value\":0.1},\"hatch_color\":{\"value\":\"red\"},\"line_alpha\":{\"value\":0.1},\"line_color\":{\"value\":\"red\"},\"size\":{\"value\":10},\"x\":{\"field\":\"FPR_AA\"},\"y\":{\"field\":\"TPR_AA\"}},\"id\":\"1364\",\"type\":\"Circle\"},{\"attributes\":{\"source\":{\"id\":\"1291\"}},\"id\":\"1350\",\"type\":\"CDSView\"},{\"attributes\":{\"label\":{\"value\":\"African-American\"},\"renderers\":[{\"id\":\"1331\"},{\"id\":\"1366\"}]},\"id\":\"1344\",\"type\":\"LegendItem\"},{\"attributes\":{\"axis_label\":\"FPR\",\"coordinates\":null,\"formatter\":{\"id\":\"1338\"},\"group\":null,\"major_label_policy\":{\"id\":\"1339\"},\"ticker\":{\"id\":\"1304\"}},\"id\":\"1303\",\"type\":\"LinearAxis\"},{\"attributes\":{},\"id\":\"1304\",\"type\":\"BasicTicker\"},{\"attributes\":{\"line_alpha\":0.2,\"line_color\":\"red\",\"line_width\":4,\"x\":{\"field\":\"FPR_AA\"},\"y\":{\"field\":\"TPR_AA\"}},\"id\":\"1330\",\"type\":\"Line\"},{\"attributes\":{\"line_color\":\"red\",\"line_width\":4,\"x\":{\"field\":\"FPR_AA\"},\"y\":{\"field\":\"TPR_AA\"}},\"id\":\"1328\",\"type\":\"Line\"},{\"attributes\":{\"source\":{\"id\":\"1291\"}},\"id\":\"1367\",\"type\":\"CDSView\"},{\"attributes\":{},\"id\":\"1312\",\"type\":\"WheelZoomTool\"},{\"attributes\":{\"line_color\":\"blue\",\"line_width\":4,\"x\":{\"field\":\"FPR_CA\"},\"y\":{\"field\":\"TPR_CA\"}},\"id\":\"1346\",\"type\":\"Line\"},{\"attributes\":{\"callback\":null,\"tooltips\":[[\"Threshold\",\"@th\"]]},\"id\":\"1318\",\"type\":\"HoverTool\"},{\"attributes\":{\"fill_color\":{\"value\":\"blue\"},\"hatch_color\":{\"value\":\"blue\"},\"line_color\":{\"value\":\"blue\"},\"size\":{\"value\":10},\"x\":{\"field\":\"FPR_CA\"},\"y\":{\"field\":\"TPR_CA\"}},\"id\":\"1379\",\"type\":\"Circle\"},{\"attributes\":{},\"id\":\"1297\",\"type\":\"DataRange1d\"},{\"attributes\":{\"label\":{\"value\":\"Caucasian\"},\"renderers\":[{\"id\":\"1349\"},{\"id\":\"1382\"}]},\"id\":\"1361\",\"type\":\"LegendItem\"},{\"attributes\":{\"axis_label\":\"TPR\",\"coordinates\":null,\"formatter\":{\"id\":\"1335\"},\"group\":null,\"major_label_policy\":{\"id\":\"1336\"},\"ticker\":{\"id\":\"1308\"}},\"id\":\"1307\",\"type\":\"LinearAxis\"},{\"attributes\":{},\"id\":\"1340\",\"type\":\"UnionRenderers\"},{\"attributes\":{},\"id\":\"1316\",\"type\":\"HelpTool\"},{\"attributes\":{\"fill_alpha\":{\"value\":0.2},\"fill_color\":{\"value\":\"red\"},\"hatch_alpha\":{\"value\":0.2},\"hatch_color\":{\"value\":\"red\"},\"line_alpha\":{\"value\":0.2},\"line_color\":{\"value\":\"red\"},\"size\":{\"value\":10},\"x\":{\"field\":\"FPR_AA\"},\"y\":{\"field\":\"TPR_AA\"}},\"id\":\"1365\",\"type\":\"Circle\"}],\"root_ids\":[\"1292\"]},\"title\":\"Bokeh Application\",\"version\":\"2.4.2\"}};\n  const render_items = [{\"docid\":\"3b2f5dc0-cf54-4010-970a-715f5b437c99\",\"root_ids\":[\"1292\"],\"roots\":{\"1292\":\"0bae2600-faed-4f48-b383-41c6d9c1ae5a\"}}];\n  root.Bokeh.embed.embed_items_notebook(docs_json, render_items);\n\n  }\n  if (root.Bokeh !== undefined) {\n    embed_document(root);\n  } else {\n    let attempts = 0;\n    const timer = setInterval(function(root) {\n      if (root.Bokeh !== undefined) {\n        clearInterval(timer);\n        embed_document(root);\n      } else {\n        attempts++;\n        if (attempts > 100) {\n          clearInterval(timer);\n          console.log(\"Bokeh: ERROR: Unable to run BokehJS code because BokehJS library is missing\");\n        }\n      }\n    }, 10, root)\n  }\n})(window);",
      "application/vnd.bokehjs_exec.v0+json": ""
     },
     "metadata": {
      "application/vnd.bokehjs_exec.v0+json": {
       "id": "1292"
      }
     },
     "output_type": "display_data"
    }
   ],
   "source": [
    "p = figure(title='ROC Curves for Caucasian and African-American groups',\n",
    "           x_axis_label='FPR',\n",
    "           y_axis_label='TPR',\n",
    "           tooltips=[\n",
    "               ('Threshold', '@th'),\n",
    "           ])\n",
    "\n",
    "p.line('FPR_AA', 'TPR_AA', color='red', line_width=4, legend_label='African-American', source=source)\n",
    "p.line('FPR_CA', 'TPR_CA', color='blue', line_width=4, legend_label='Caucasian', source=source)\n",
    "p.circle('FPR_AA', 'TPR_AA', color='red', size=10, legend_label='African-American', source=source)\n",
    "p.circle('FPR_CA', 'TPR_CA', color='blue', size=10, legend_label='Caucasian', source=source)\n",
    "\n",
    "\n",
    "\n",
    "output_notebook()\n",
    "show(p)"
   ],
   "metadata": {
    "collapsed": false,
    "pycharm": {
     "name": "#%%\n"
    }
   }
  },
  {
   "cell_type": "markdown",
   "source": [
    "If we project each point on top of the other line (orthogonally), we can get the distance between the points. It seems that the point where the threshold is 0.6667 has the least distance to the corresponding point on the other line."
   ],
   "metadata": {
    "collapsed": false,
    "pycharm": {
     "name": "#%% md\n"
    }
   }
  },
  {
   "cell_type": "code",
   "execution_count": 50,
   "outputs": [],
   "source": [
    "y_hat_adj_cauc = get_y_hat(model.predict_proba(X_test_cauc), th=0.6667)\n",
    "y_hat_adj_afro = get_y_hat(model.predict_proba(X_test_afro), th=0.6667)"
   ],
   "metadata": {
    "collapsed": false,
    "pycharm": {
     "name": "#%%\n"
    }
   }
  },
  {
   "cell_type": "code",
   "execution_count": 51,
   "outputs": [],
   "source": [
    "from sklearn.metrics import ConfusionMatrixDisplay"
   ],
   "metadata": {
    "collapsed": false,
    "pycharm": {
     "name": "#%%\n"
    }
   }
  },
  {
   "cell_type": "code",
   "execution_count": 52,
   "outputs": [
    {
     "data": {
      "text/plain": "<Figure size 432x288 with 2 Axes>",
      "image/png": "[encoded data removed]"
     },
     "metadata": {
      "needs_background": "light"
     },
     "output_type": "display_data"
    },
    {
     "data": {
      "text/plain": "<Figure size 432x288 with 2 Axes>",
      "image/png": "[encoded data removed]"
     },
     "metadata": {
      "needs_background": "light"
     },
     "output_type": "display_data"
    }
   ],
   "source": [
    "ConfusionMatrixDisplay.from_predictions(y_true=y_test_cauc, y_pred=y_hat_adj_cauc, cmap='autumn', normalize='all')\n",
    "plt.title('Caucasian confusion matrix')\n",
    "\n",
    "ConfusionMatrixDisplay.from_predictions(y_true=y_test_afro, y_pred=y_hat_adj_afro, cmap='autumn', normalize='all')\n",
    "plt.title('African-American confusion matrix')\n",
    "plt.show()"
   ],
   "metadata": {
    "collapsed": false,
    "pycharm": {
     "name": "#%%\n"
    }
   }
  },
  {
   "cell_type": "markdown",
   "source": [
    "Well done! It is now time for you to have a break, relax and be proud of the awesome work you have done!! But before you go, please <mark> take a minute of your time (it is really one minute) to fill this [form](https://forms.gle/fbUXFxmJ283cKGvy6). Thank you so much! </mark>"
   ],
   "metadata": {
    "collapsed": false,
    "pycharm": {
     "name": "#%% md\n"
    }
   }
  }
 ],
 "metadata": {
  "kernelspec": {
   "display_name": "Python 3 (ipykernel)",
   "language": "python",
   "name": "python3"
  },
  "language_info": {
   "codemirror_mode": {
    "name": "ipython",
    "version": 3
   },
   "file_extension": ".py",
   "mimetype": "text/x-python",
   "name": "python",
   "nbconvert_exporter": "python",
   "pygments_lexer": "ipython3",
   "version": "3.9.7"
  }
 },
 "nbformat": 4,
 "nbformat_minor": 4
}